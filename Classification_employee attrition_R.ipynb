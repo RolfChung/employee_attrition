{
 "cells": [
  {
   "cell_type": "markdown",
   "metadata": {},
   "source": [
    "### Summary\n",
    "\n",
    "<p>\n",
    "Some employees of a company are going to think about leaving the company. This phenomenon is captured with the\n",
    "terms \"attrition\" or \"churn\". Given data algorithms can try to predict, which employees are going to leave the\n",
    "company. It is up to the decision making of the enterprise to act on this knowledge, maybe offer incentives to hold\n",
    "the employee in the company.\n",
    "</p>\n",
    "\n",
    "<p>\n",
    "Algorithms applied here on the attrition data set are logistic regression and random forest. The application is\n",
    "made possible by preparing the data and split it into train-, validation-, and test data. The quality of the\n",
    "results is measured with metrics like precision, accuracy and recall.\n",
    "</p>\n",
    "\n",
    "<p>\n",
    "According to the evaluation the logistic regression model proved to work best for the data set.\n",
    "</p>\n"
   ]
  },
  {
   "cell_type": "markdown",
   "metadata": {},
   "source": [
    "### Load data and packages"
   ]
  },
  {
   "cell_type": "code",
   "execution_count": 1,
   "metadata": {},
   "outputs": [
    {
     "data": {
      "text/html": [
       "6"
      ],
      "text/latex": [
       "6"
      ],
      "text/markdown": [
       "6"
      ],
      "text/plain": [
       "[1] 6"
      ]
     },
     "metadata": {},
     "output_type": "display_data"
    }
   ],
   "source": [
    "# Test notebook works\n",
    "3+3"
   ]
  },
  {
   "cell_type": "code",
   "execution_count": 2,
   "metadata": {},
   "outputs": [
    {
     "data": {
      "text/html": [
       "'C:/Users/gamarandor/data_science/data_science_projects/data_camp_projects/employee_attrition'"
      ],
      "text/latex": [
       "'C:/Users/gamarandor/data\\_science/data\\_science\\_projects/data\\_camp\\_projects/employee\\_attrition'"
      ],
      "text/markdown": [
       "'C:/Users/gamarandor/data_science/data_science_projects/data_camp_projects/employee_attrition'"
      ],
      "text/plain": [
       "[1] \"C:/Users/gamarandor/data_science/data_science_projects/data_camp_projects/employee_attrition\""
      ]
     },
     "metadata": {},
     "output_type": "display_data"
    }
   ],
   "source": [
    "getwd()"
   ]
  },
  {
   "cell_type": "code",
   "execution_count": 3,
   "metadata": {},
   "outputs": [
    {
     "name": "stderr",
     "output_type": "stream",
     "text": [
      "Warning message:\n",
      "\"package 'tidyverse' was built under R version 3.5.2\"-- \u001b[1mAttaching packages\u001b[22m --------------------------------------- tidyverse 1.2.1 --\n",
      "\u001b[32mv\u001b[39m \u001b[34mggplot2\u001b[39m 3.1.0     \u001b[32mv\u001b[39m \u001b[34mpurrr  \u001b[39m 0.2.5\n",
      "\u001b[32mv\u001b[39m \u001b[34mtibble \u001b[39m 1.4.2     \u001b[32mv\u001b[39m \u001b[34mdplyr  \u001b[39m 0.7.8\n",
      "\u001b[32mv\u001b[39m \u001b[34mtidyr  \u001b[39m 0.8.2     \u001b[32mv\u001b[39m \u001b[34mstringr\u001b[39m 1.3.1\n",
      "\u001b[32mv\u001b[39m \u001b[34mreadr  \u001b[39m 1.3.1     \u001b[32mv\u001b[39m \u001b[34mforcats\u001b[39m 0.4.0\n",
      "Warning message:\n",
      "\"package 'readr' was built under R version 3.5.2\"Warning message:\n",
      "\"package 'forcats' was built under R version 3.5.2\"-- \u001b[1mConflicts\u001b[22m ------------------------------------------ tidyverse_conflicts() --\n",
      "\u001b[31mx\u001b[39m \u001b[34mdplyr\u001b[39m::\u001b[32mfilter()\u001b[39m masks \u001b[34mstats\u001b[39m::filter()\n",
      "\u001b[31mx\u001b[39m \u001b[34mdplyr\u001b[39m::\u001b[32mlag()\u001b[39m    masks \u001b[34mstats\u001b[39m::lag()\n"
     ]
    }
   ],
   "source": [
    "library(tidyverse)"
   ]
  },
  {
   "cell_type": "code",
   "execution_count": 4,
   "metadata": {},
   "outputs": [
    {
     "name": "stderr",
     "output_type": "stream",
     "text": [
      "Warning message:\n",
      "\"package 'rsample' was built under R version 3.5.2\"\n",
      "Attaching package: 'rsample'\n",
      "\n",
      "The following object is masked from 'package:tidyr':\n",
      "\n",
      "    fill\n",
      "\n"
     ]
    }
   ],
   "source": [
    "library(rsample)"
   ]
  },
  {
   "cell_type": "code",
   "execution_count": 5,
   "metadata": {},
   "outputs": [
    {
     "name": "stderr",
     "output_type": "stream",
     "text": [
      "Warning message:\n",
      "\"package 'Metrics' was built under R version 3.5.2\""
     ]
    }
   ],
   "source": [
    "library(Metrics)"
   ]
  },
  {
   "cell_type": "code",
   "execution_count": 6,
   "metadata": {},
   "outputs": [
    {
     "name": "stderr",
     "output_type": "stream",
     "text": [
      "Warning message:\n",
      "\"package 'ranger' was built under R version 3.5.2\""
     ]
    }
   ],
   "source": [
    "library(ranger)"
   ]
  },
  {
   "cell_type": "markdown",
   "metadata": {},
   "source": [
    "### Read in the data"
   ]
  },
  {
   "cell_type": "code",
   "execution_count": 7,
   "metadata": {},
   "outputs": [
    {
     "data": {
      "text/html": [
       "'WA_Fn-UseC_-HR-Employee-Attrition.csv'"
      ],
      "text/latex": [
       "'WA\\_Fn-UseC\\_-HR-Employee-Attrition.csv'"
      ],
      "text/markdown": [
       "'WA_Fn-UseC_-HR-Employee-Attrition.csv'"
      ],
      "text/plain": [
       "[1] \"WA_Fn-UseC_-HR-Employee-Attrition.csv\""
      ]
     },
     "metadata": {},
     "output_type": "display_data"
    }
   ],
   "source": [
    "file_path = 'WA_Fn-UseC_-HR-Employee-Attrition.csv'\n",
    "file_path"
   ]
  },
  {
   "cell_type": "code",
   "execution_count": 8,
   "metadata": {},
   "outputs": [],
   "source": [
    "attrition = read.csv(file_path)"
   ]
  },
  {
   "cell_type": "markdown",
   "metadata": {},
   "source": [
    "### Explore data"
   ]
  },
  {
   "cell_type": "code",
   "execution_count": 9,
   "metadata": {},
   "outputs": [
    {
     "data": {
      "text/html": [
       "<ol class=list-inline>\n",
       "\t<li>1470</li>\n",
       "\t<li>35</li>\n",
       "</ol>\n"
      ],
      "text/latex": [
       "\\begin{enumerate*}\n",
       "\\item 1470\n",
       "\\item 35\n",
       "\\end{enumerate*}\n"
      ],
      "text/markdown": [
       "1. 1470\n",
       "2. 35\n",
       "\n",
       "\n"
      ],
      "text/plain": [
       "[1] 1470   35"
      ]
     },
     "metadata": {},
     "output_type": "display_data"
    },
    {
     "data": {
      "text/html": [
       "1470"
      ],
      "text/latex": [
       "1470"
      ],
      "text/markdown": [
       "1470"
      ],
      "text/plain": [
       "[1] 1470"
      ]
     },
     "metadata": {},
     "output_type": "display_data"
    },
    {
     "data": {
      "text/html": [
       "35"
      ],
      "text/latex": [
       "35"
      ],
      "text/markdown": [
       "35"
      ],
      "text/plain": [
       "[1] 35"
      ]
     },
     "metadata": {},
     "output_type": "display_data"
    }
   ],
   "source": [
    "dim(attrition)\n",
    "nrow(attrition)\n",
    "ncol(attrition)"
   ]
  },
  {
   "cell_type": "code",
   "execution_count": 10,
   "metadata": {},
   "outputs": [
    {
     "data": {
      "text/html": [
       "<ol class=list-inline>\n",
       "\t<li>'ï..Age'</li>\n",
       "\t<li>'Attrition'</li>\n",
       "\t<li>'BusinessTravel'</li>\n",
       "\t<li>'DailyRate'</li>\n",
       "\t<li>'Department'</li>\n",
       "\t<li>'DistanceFromHome'</li>\n",
       "\t<li>'Education'</li>\n",
       "\t<li>'EducationField'</li>\n",
       "\t<li>'EmployeeCount'</li>\n",
       "\t<li>'EmployeeNumber'</li>\n",
       "\t<li>'EnvironmentSatisfaction'</li>\n",
       "\t<li>'Gender'</li>\n",
       "\t<li>'HourlyRate'</li>\n",
       "\t<li>'JobInvolvement'</li>\n",
       "\t<li>'JobLevel'</li>\n",
       "\t<li>'JobRole'</li>\n",
       "\t<li>'JobSatisfaction'</li>\n",
       "\t<li>'MaritalStatus'</li>\n",
       "\t<li>'MonthlyIncome'</li>\n",
       "\t<li>'MonthlyRate'</li>\n",
       "\t<li>'NumCompaniesWorked'</li>\n",
       "\t<li>'Over18'</li>\n",
       "\t<li>'OverTime'</li>\n",
       "\t<li>'PercentSalaryHike'</li>\n",
       "\t<li>'PerformanceRating'</li>\n",
       "\t<li>'RelationshipSatisfaction'</li>\n",
       "\t<li>'StandardHours'</li>\n",
       "\t<li>'StockOptionLevel'</li>\n",
       "\t<li>'TotalWorkingYears'</li>\n",
       "\t<li>'TrainingTimesLastYear'</li>\n",
       "\t<li>'WorkLifeBalance'</li>\n",
       "\t<li>'YearsAtCompany'</li>\n",
       "\t<li>'YearsInCurrentRole'</li>\n",
       "\t<li>'YearsSinceLastPromotion'</li>\n",
       "\t<li>'YearsWithCurrManager'</li>\n",
       "</ol>\n"
      ],
      "text/latex": [
       "\\begin{enumerate*}\n",
       "\\item 'ï..Age'\n",
       "\\item 'Attrition'\n",
       "\\item 'BusinessTravel'\n",
       "\\item 'DailyRate'\n",
       "\\item 'Department'\n",
       "\\item 'DistanceFromHome'\n",
       "\\item 'Education'\n",
       "\\item 'EducationField'\n",
       "\\item 'EmployeeCount'\n",
       "\\item 'EmployeeNumber'\n",
       "\\item 'EnvironmentSatisfaction'\n",
       "\\item 'Gender'\n",
       "\\item 'HourlyRate'\n",
       "\\item 'JobInvolvement'\n",
       "\\item 'JobLevel'\n",
       "\\item 'JobRole'\n",
       "\\item 'JobSatisfaction'\n",
       "\\item 'MaritalStatus'\n",
       "\\item 'MonthlyIncome'\n",
       "\\item 'MonthlyRate'\n",
       "\\item 'NumCompaniesWorked'\n",
       "\\item 'Over18'\n",
       "\\item 'OverTime'\n",
       "\\item 'PercentSalaryHike'\n",
       "\\item 'PerformanceRating'\n",
       "\\item 'RelationshipSatisfaction'\n",
       "\\item 'StandardHours'\n",
       "\\item 'StockOptionLevel'\n",
       "\\item 'TotalWorkingYears'\n",
       "\\item 'TrainingTimesLastYear'\n",
       "\\item 'WorkLifeBalance'\n",
       "\\item 'YearsAtCompany'\n",
       "\\item 'YearsInCurrentRole'\n",
       "\\item 'YearsSinceLastPromotion'\n",
       "\\item 'YearsWithCurrManager'\n",
       "\\end{enumerate*}\n"
      ],
      "text/markdown": [
       "1. 'ï..Age'\n",
       "2. 'Attrition'\n",
       "3. 'BusinessTravel'\n",
       "4. 'DailyRate'\n",
       "5. 'Department'\n",
       "6. 'DistanceFromHome'\n",
       "7. 'Education'\n",
       "8. 'EducationField'\n",
       "9. 'EmployeeCount'\n",
       "10. 'EmployeeNumber'\n",
       "11. 'EnvironmentSatisfaction'\n",
       "12. 'Gender'\n",
       "13. 'HourlyRate'\n",
       "14. 'JobInvolvement'\n",
       "15. 'JobLevel'\n",
       "16. 'JobRole'\n",
       "17. 'JobSatisfaction'\n",
       "18. 'MaritalStatus'\n",
       "19. 'MonthlyIncome'\n",
       "20. 'MonthlyRate'\n",
       "21. 'NumCompaniesWorked'\n",
       "22. 'Over18'\n",
       "23. 'OverTime'\n",
       "24. 'PercentSalaryHike'\n",
       "25. 'PerformanceRating'\n",
       "26. 'RelationshipSatisfaction'\n",
       "27. 'StandardHours'\n",
       "28. 'StockOptionLevel'\n",
       "29. 'TotalWorkingYears'\n",
       "30. 'TrainingTimesLastYear'\n",
       "31. 'WorkLifeBalance'\n",
       "32. 'YearsAtCompany'\n",
       "33. 'YearsInCurrentRole'\n",
       "34. 'YearsSinceLastPromotion'\n",
       "35. 'YearsWithCurrManager'\n",
       "\n",
       "\n"
      ],
      "text/plain": [
       " [1] \"ï..Age\"                   \"Attrition\"               \n",
       " [3] \"BusinessTravel\"           \"DailyRate\"               \n",
       " [5] \"Department\"               \"DistanceFromHome\"        \n",
       " [7] \"Education\"                \"EducationField\"          \n",
       " [9] \"EmployeeCount\"            \"EmployeeNumber\"          \n",
       "[11] \"EnvironmentSatisfaction\"  \"Gender\"                  \n",
       "[13] \"HourlyRate\"               \"JobInvolvement\"          \n",
       "[15] \"JobLevel\"                 \"JobRole\"                 \n",
       "[17] \"JobSatisfaction\"          \"MaritalStatus\"           \n",
       "[19] \"MonthlyIncome\"            \"MonthlyRate\"             \n",
       "[21] \"NumCompaniesWorked\"       \"Over18\"                  \n",
       "[23] \"OverTime\"                 \"PercentSalaryHike\"       \n",
       "[25] \"PerformanceRating\"        \"RelationshipSatisfaction\"\n",
       "[27] \"StandardHours\"            \"StockOptionLevel\"        \n",
       "[29] \"TotalWorkingYears\"        \"TrainingTimesLastYear\"   \n",
       "[31] \"WorkLifeBalance\"          \"YearsAtCompany\"          \n",
       "[33] \"YearsInCurrentRole\"       \"YearsSinceLastPromotion\" \n",
       "[35] \"YearsWithCurrManager\"    "
      ]
     },
     "metadata": {},
     "output_type": "display_data"
    }
   ],
   "source": [
    "colnames(attrition)"
   ]
  },
  {
   "cell_type": "markdown",
   "metadata": {},
   "source": [
    "The variable 'Attrition' is the response or dependent variable, which we want to predict."
   ]
  },
  {
   "cell_type": "code",
   "execution_count": 11,
   "metadata": {},
   "outputs": [
    {
     "name": "stdout",
     "output_type": "stream",
     "text": [
      "Observations: 1,470\n",
      "Variables: 35\n",
      "$ ï..Age                   <int> 41, 49, 37, 33, 27, 32, 59, 30, 38, 36, 35...\n",
      "$ Attrition                <fct> Yes, No, Yes, No, No, No, No, No, No, No, ...\n",
      "$ BusinessTravel           <fct> Travel_Rarely, Travel_Frequently, Travel_R...\n",
      "$ DailyRate                <int> 1102, 279, 1373, 1392, 591, 1005, 1324, 13...\n",
      "$ Department               <fct> Sales, Research & Development, Research & ...\n",
      "$ DistanceFromHome         <int> 1, 8, 2, 3, 2, 2, 3, 24, 23, 27, 16, 15, 2...\n",
      "$ Education                <int> 2, 1, 2, 4, 1, 2, 3, 1, 3, 3, 3, 2, 1, 2, ...\n",
      "$ EducationField           <fct> Life Sciences, Life Sciences, Other, Life ...\n",
      "$ EmployeeCount            <int> 1, 1, 1, 1, 1, 1, 1, 1, 1, 1, 1, 1, 1, 1, ...\n",
      "$ EmployeeNumber           <int> 1, 2, 4, 5, 7, 8, 10, 11, 12, 13, 14, 15, ...\n",
      "$ EnvironmentSatisfaction  <int> 2, 3, 4, 4, 1, 4, 3, 4, 4, 3, 1, 4, 1, 2, ...\n",
      "$ Gender                   <fct> Female, Male, Male, Female, Male, Male, Fe...\n",
      "$ HourlyRate               <int> 94, 61, 92, 56, 40, 79, 81, 67, 44, 94, 84...\n",
      "$ JobInvolvement           <int> 3, 2, 2, 3, 3, 3, 4, 3, 2, 3, 4, 2, 3, 3, ...\n",
      "$ JobLevel                 <int> 2, 2, 1, 1, 1, 1, 1, 1, 3, 2, 1, 2, 1, 1, ...\n",
      "$ JobRole                  <fct> Sales Executive, Research Scientist, Labor...\n",
      "$ JobSatisfaction          <int> 4, 2, 3, 3, 2, 4, 1, 3, 3, 3, 2, 3, 3, 4, ...\n",
      "$ MaritalStatus            <fct> Single, Married, Single, Married, Married,...\n",
      "$ MonthlyIncome            <int> 5993, 5130, 2090, 2909, 3468, 3068, 2670, ...\n",
      "$ MonthlyRate              <int> 19479, 24907, 2396, 23159, 16632, 11864, 9...\n",
      "$ NumCompaniesWorked       <int> 8, 1, 6, 1, 9, 0, 4, 1, 0, 6, 0, 0, 1, 0, ...\n",
      "$ Over18                   <fct> Y, Y, Y, Y, Y, Y, Y, Y, Y, Y, Y, Y, Y, Y, ...\n",
      "$ OverTime                 <fct> Yes, No, Yes, Yes, No, No, Yes, No, No, No...\n",
      "$ PercentSalaryHike        <int> 11, 23, 15, 11, 12, 13, 20, 22, 21, 13, 13...\n",
      "$ PerformanceRating        <int> 3, 4, 3, 3, 3, 3, 4, 4, 4, 3, 3, 3, 3, 3, ...\n",
      "$ RelationshipSatisfaction <int> 1, 4, 2, 3, 4, 3, 1, 2, 2, 2, 3, 4, 4, 3, ...\n",
      "$ StandardHours            <int> 80, 80, 80, 80, 80, 80, 80, 80, 80, 80, 80...\n",
      "$ StockOptionLevel         <int> 0, 1, 0, 0, 1, 0, 3, 1, 0, 2, 1, 0, 1, 1, ...\n",
      "$ TotalWorkingYears        <int> 8, 10, 7, 8, 6, 8, 12, 1, 10, 17, 6, 10, 5...\n",
      "$ TrainingTimesLastYear    <int> 0, 3, 3, 3, 3, 2, 3, 2, 2, 3, 5, 3, 1, 2, ...\n",
      "$ WorkLifeBalance          <int> 1, 3, 3, 3, 3, 2, 2, 3, 3, 2, 3, 3, 2, 3, ...\n",
      "$ YearsAtCompany           <int> 6, 10, 0, 8, 2, 7, 1, 1, 9, 7, 5, 9, 5, 2,...\n",
      "$ YearsInCurrentRole       <int> 4, 7, 0, 7, 2, 7, 0, 0, 7, 7, 4, 5, 2, 2, ...\n",
      "$ YearsSinceLastPromotion  <int> 0, 1, 0, 3, 2, 3, 0, 0, 1, 7, 0, 0, 4, 1, ...\n",
      "$ YearsWithCurrManager     <int> 5, 7, 0, 0, 2, 6, 0, 0, 8, 7, 3, 8, 3, 2, ...\n"
     ]
    }
   ],
   "source": [
    "glimpse(attrition)"
   ]
  },
  {
   "cell_type": "code",
   "execution_count": 12,
   "metadata": {},
   "outputs": [
    {
     "data": {
      "text/html": [
       "<ol class=list-inline>\n",
       "\t<li>Yes</li>\n",
       "\t<li>No</li>\n",
       "</ol>\n",
       "\n",
       "<details>\n",
       "\t<summary style=display:list-item;cursor:pointer>\n",
       "\t\t<strong>Levels</strong>:\n",
       "\t</summary>\n",
       "\t<ol class=list-inline>\n",
       "\t\t<li>'No'</li>\n",
       "\t\t<li>'Yes'</li>\n",
       "\t</ol>\n",
       "</details>"
      ],
      "text/latex": [
       "\\begin{enumerate*}\n",
       "\\item Yes\n",
       "\\item No\n",
       "\\end{enumerate*}\n",
       "\n",
       "\\emph{Levels}: \\begin{enumerate*}\n",
       "\\item 'No'\n",
       "\\item 'Yes'\n",
       "\\end{enumerate*}\n"
      ],
      "text/markdown": [
       "1. Yes\n",
       "2. No\n",
       "\n",
       "\n",
       "\n",
       "**Levels**: 1. 'No'\n",
       "2. 'Yes'\n",
       "\n",
       "\n"
      ],
      "text/plain": [
       "[1] Yes No \n",
       "Levels: No Yes"
      ]
     },
     "metadata": {},
     "output_type": "display_data"
    }
   ],
   "source": [
    "unique(attrition$Attrition )"
   ]
  },
  {
   "cell_type": "code",
   "execution_count": 13,
   "metadata": {},
   "outputs": [
    {
     "data": {
      "text/plain": [
       "     ï..Age      Attrition            BusinessTravel   DailyRate     \n",
       " Min.   :18.00   No :1233   Non-Travel       : 150   Min.   : 102.0  \n",
       " 1st Qu.:30.00   Yes: 237   Travel_Frequently: 277   1st Qu.: 465.0  \n",
       " Median :36.00              Travel_Rarely    :1043   Median : 802.0  \n",
       " Mean   :36.92                                       Mean   : 802.5  \n",
       " 3rd Qu.:43.00                                       3rd Qu.:1157.0  \n",
       " Max.   :60.00                                       Max.   :1499.0  \n",
       "                                                                     \n",
       "                  Department  DistanceFromHome   Education    \n",
       " Human Resources       : 63   Min.   : 1.000   Min.   :1.000  \n",
       " Research & Development:961   1st Qu.: 2.000   1st Qu.:2.000  \n",
       " Sales                 :446   Median : 7.000   Median :3.000  \n",
       "                              Mean   : 9.193   Mean   :2.913  \n",
       "                              3rd Qu.:14.000   3rd Qu.:4.000  \n",
       "                              Max.   :29.000   Max.   :5.000  \n",
       "                                                              \n",
       "          EducationField EmployeeCount EmployeeNumber   EnvironmentSatisfaction\n",
       " Human Resources : 27    Min.   :1     Min.   :   1.0   Min.   :1.000          \n",
       " Life Sciences   :606    1st Qu.:1     1st Qu.: 491.2   1st Qu.:2.000          \n",
       " Marketing       :159    Median :1     Median :1020.5   Median :3.000          \n",
       " Medical         :464    Mean   :1     Mean   :1024.9   Mean   :2.722          \n",
       " Other           : 82    3rd Qu.:1     3rd Qu.:1555.8   3rd Qu.:4.000          \n",
       " Technical Degree:132    Max.   :1     Max.   :2068.0   Max.   :4.000          \n",
       "                                                                               \n",
       "    Gender      HourlyRate     JobInvolvement    JobLevel    \n",
       " Female:588   Min.   : 30.00   Min.   :1.00   Min.   :1.000  \n",
       " Male  :882   1st Qu.: 48.00   1st Qu.:2.00   1st Qu.:1.000  \n",
       "              Median : 66.00   Median :3.00   Median :2.000  \n",
       "              Mean   : 65.89   Mean   :2.73   Mean   :2.064  \n",
       "              3rd Qu.: 83.75   3rd Qu.:3.00   3rd Qu.:3.000  \n",
       "              Max.   :100.00   Max.   :4.00   Max.   :5.000  \n",
       "                                                             \n",
       "                      JobRole    JobSatisfaction  MaritalStatus MonthlyIncome  \n",
       " Sales Executive          :326   Min.   :1.000   Divorced:327   Min.   : 1009  \n",
       " Research Scientist       :292   1st Qu.:2.000   Married :673   1st Qu.: 2911  \n",
       " Laboratory Technician    :259   Median :3.000   Single  :470   Median : 4919  \n",
       " Manufacturing Director   :145   Mean   :2.729                  Mean   : 6503  \n",
       " Healthcare Representative:131   3rd Qu.:4.000                  3rd Qu.: 8379  \n",
       " Manager                  :102   Max.   :4.000                  Max.   :19999  \n",
       " (Other)                  :215                                                 \n",
       "  MonthlyRate    NumCompaniesWorked Over18   OverTime   PercentSalaryHike\n",
       " Min.   : 2094   Min.   :0.000      Y:1470   No :1054   Min.   :11.00    \n",
       " 1st Qu.: 8047   1st Qu.:1.000               Yes: 416   1st Qu.:12.00    \n",
       " Median :14236   Median :2.000                          Median :14.00    \n",
       " Mean   :14313   Mean   :2.693                          Mean   :15.21    \n",
       " 3rd Qu.:20462   3rd Qu.:4.000                          3rd Qu.:18.00    \n",
       " Max.   :26999   Max.   :9.000                          Max.   :25.00    \n",
       "                                                                         \n",
       " PerformanceRating RelationshipSatisfaction StandardHours StockOptionLevel\n",
       " Min.   :3.000     Min.   :1.000            Min.   :80    Min.   :0.0000  \n",
       " 1st Qu.:3.000     1st Qu.:2.000            1st Qu.:80    1st Qu.:0.0000  \n",
       " Median :3.000     Median :3.000            Median :80    Median :1.0000  \n",
       " Mean   :3.154     Mean   :2.712            Mean   :80    Mean   :0.7939  \n",
       " 3rd Qu.:3.000     3rd Qu.:4.000            3rd Qu.:80    3rd Qu.:1.0000  \n",
       " Max.   :4.000     Max.   :4.000            Max.   :80    Max.   :3.0000  \n",
       "                                                                          \n",
       " TotalWorkingYears TrainingTimesLastYear WorkLifeBalance YearsAtCompany  \n",
       " Min.   : 0.00     Min.   :0.000         Min.   :1.000   Min.   : 0.000  \n",
       " 1st Qu.: 6.00     1st Qu.:2.000         1st Qu.:2.000   1st Qu.: 3.000  \n",
       " Median :10.00     Median :3.000         Median :3.000   Median : 5.000  \n",
       " Mean   :11.28     Mean   :2.799         Mean   :2.761   Mean   : 7.008  \n",
       " 3rd Qu.:15.00     3rd Qu.:3.000         3rd Qu.:3.000   3rd Qu.: 9.000  \n",
       " Max.   :40.00     Max.   :6.000         Max.   :4.000   Max.   :40.000  \n",
       "                                                                         \n",
       " YearsInCurrentRole YearsSinceLastPromotion YearsWithCurrManager\n",
       " Min.   : 0.000     Min.   : 0.000          Min.   : 0.000      \n",
       " 1st Qu.: 2.000     1st Qu.: 0.000          1st Qu.: 2.000      \n",
       " Median : 3.000     Median : 1.000          Median : 3.000      \n",
       " Mean   : 4.229     Mean   : 2.188          Mean   : 4.123      \n",
       " 3rd Qu.: 7.000     3rd Qu.: 3.000          3rd Qu.: 7.000      \n",
       " Max.   :18.000     Max.   :15.000          Max.   :17.000      \n",
       "                                                                "
      ]
     },
     "metadata": {},
     "output_type": "display_data"
    }
   ],
   "source": [
    "summary(attrition)"
   ]
  },
  {
   "cell_type": "code",
   "execution_count": 14,
   "metadata": {},
   "outputs": [
    {
     "data": {
      "text/html": [
       "<table>\n",
       "<thead><tr><th scope=col>ï..Age</th><th scope=col>Attrition</th><th scope=col>BusinessTravel</th><th scope=col>DailyRate</th><th scope=col>Department</th><th scope=col>DistanceFromHome</th><th scope=col>Education</th><th scope=col>EducationField</th><th scope=col>EmployeeCount</th><th scope=col>EmployeeNumber</th><th scope=col>...</th><th scope=col>RelationshipSatisfaction</th><th scope=col>StandardHours</th><th scope=col>StockOptionLevel</th><th scope=col>TotalWorkingYears</th><th scope=col>TrainingTimesLastYear</th><th scope=col>WorkLifeBalance</th><th scope=col>YearsAtCompany</th><th scope=col>YearsInCurrentRole</th><th scope=col>YearsSinceLastPromotion</th><th scope=col>YearsWithCurrManager</th></tr></thead>\n",
       "<tbody>\n",
       "\t<tr><td>41                    </td><td>Yes                   </td><td>Travel_Rarely         </td><td>1102                  </td><td>Sales                 </td><td>1                     </td><td>2                     </td><td>Life Sciences         </td><td>1                     </td><td>1                     </td><td>...                   </td><td>1                     </td><td>80                    </td><td>0                     </td><td> 8                    </td><td>0                     </td><td>1                     </td><td> 6                    </td><td>4                     </td><td>0                     </td><td>5                     </td></tr>\n",
       "\t<tr><td>49                        </td><td>No                        </td><td>Travel_Frequently         </td><td> 279                      </td><td>Research &amp; Development</td><td>8                         </td><td>1                         </td><td>Life Sciences             </td><td>1                         </td><td>2                         </td><td>...                       </td><td>4                         </td><td>80                        </td><td>1                         </td><td>10                        </td><td>3                         </td><td>3                         </td><td>10                        </td><td>7                         </td><td>1                         </td><td>7                         </td></tr>\n",
       "\t<tr><td>37                                                       </td><td>Yes                                                      </td><td><span style=white-space:pre-wrap>Travel_Rarely    </span></td><td>1373                                                     </td><td>Research &amp; Development                               </td><td>2                                                        </td><td>2                                                        </td><td><span style=white-space:pre-wrap>Other        </span>    </td><td>1                                                        </td><td>4                                                        </td><td>...                                                      </td><td>2                                                        </td><td>80                                                       </td><td>0                                                        </td><td> 7                                                       </td><td>3                                                        </td><td>3                                                        </td><td> 0                                                       </td><td>0                                                        </td><td>0                                                        </td><td>0                                                        </td></tr>\n",
       "\t<tr><td>33                        </td><td>No                        </td><td>Travel_Frequently         </td><td>1392                      </td><td>Research &amp; Development</td><td>3                         </td><td>4                         </td><td>Life Sciences             </td><td>1                         </td><td>5                         </td><td>...                       </td><td>3                         </td><td>80                        </td><td>0                         </td><td> 8                        </td><td>3                         </td><td>3                         </td><td> 8                        </td><td>7                         </td><td>3                         </td><td>0                         </td></tr>\n",
       "\t<tr><td>27                                                       </td><td>No                                                       </td><td><span style=white-space:pre-wrap>Travel_Rarely    </span></td><td> 591                                                     </td><td>Research &amp; Development                               </td><td>2                                                        </td><td>1                                                        </td><td><span style=white-space:pre-wrap>Medical      </span>    </td><td>1                                                        </td><td>7                                                        </td><td>...                                                      </td><td>4                                                        </td><td>80                                                       </td><td>1                                                        </td><td> 6                                                       </td><td>3                                                        </td><td>3                                                        </td><td> 2                                                       </td><td>2                                                        </td><td>2                                                        </td><td>2                                                        </td></tr>\n",
       "\t<tr><td>32                        </td><td>No                        </td><td>Travel_Frequently         </td><td>1005                      </td><td>Research &amp; Development</td><td>2                         </td><td>2                         </td><td>Life Sciences             </td><td>1                         </td><td>8                         </td><td>...                       </td><td>3                         </td><td>80                        </td><td>0                         </td><td> 8                        </td><td>2                         </td><td>2                         </td><td> 7                        </td><td>7                         </td><td>3                         </td><td>6                         </td></tr>\n",
       "</tbody>\n",
       "</table>\n"
      ],
      "text/latex": [
       "\\begin{tabular}{r|lllllllllllllllllllllllllllllllllll}\n",
       " ï..Age & Attrition & BusinessTravel & DailyRate & Department & DistanceFromHome & Education & EducationField & EmployeeCount & EmployeeNumber & ... & RelationshipSatisfaction & StandardHours & StockOptionLevel & TotalWorkingYears & TrainingTimesLastYear & WorkLifeBalance & YearsAtCompany & YearsInCurrentRole & YearsSinceLastPromotion & YearsWithCurrManager\\\\\n",
       "\\hline\n",
       "\t 41                     & Yes                    & Travel\\_Rarely        & 1102                   & Sales                  & 1                      & 2                      & Life Sciences          & 1                      & 1                      & ...                    & 1                      & 80                     & 0                      &  8                     & 0                      & 1                      &  6                     & 4                      & 0                      & 5                     \\\\\n",
       "\t 49                       & No                       & Travel\\_Frequently      &  279                     & Research \\& Development & 8                        & 1                        & Life Sciences            & 1                        & 2                        & ...                      & 4                        & 80                       & 1                        & 10                       & 3                        & 3                        & 10                       & 7                        & 1                        & 7                       \\\\\n",
       "\t 37                       & Yes                      & Travel\\_Rarely          & 1373                     & Research \\& Development & 2                        & 2                        & Other                    & 1                        & 4                        & ...                      & 2                        & 80                       & 0                        &  7                       & 3                        & 3                        &  0                       & 0                        & 0                        & 0                       \\\\\n",
       "\t 33                       & No                       & Travel\\_Frequently      & 1392                     & Research \\& Development & 3                        & 4                        & Life Sciences            & 1                        & 5                        & ...                      & 3                        & 80                       & 0                        &  8                       & 3                        & 3                        &  8                       & 7                        & 3                        & 0                       \\\\\n",
       "\t 27                       & No                       & Travel\\_Rarely          &  591                     & Research \\& Development & 2                        & 1                        & Medical                  & 1                        & 7                        & ...                      & 4                        & 80                       & 1                        &  6                       & 3                        & 3                        &  2                       & 2                        & 2                        & 2                       \\\\\n",
       "\t 32                       & No                       & Travel\\_Frequently      & 1005                     & Research \\& Development & 2                        & 2                        & Life Sciences            & 1                        & 8                        & ...                      & 3                        & 80                       & 0                        &  8                       & 2                        & 2                        &  7                       & 7                        & 3                        & 6                       \\\\\n",
       "\\end{tabular}\n"
      ],
      "text/markdown": [
       "\n",
       "| ï..Age | Attrition | BusinessTravel | DailyRate | Department | DistanceFromHome | Education | EducationField | EmployeeCount | EmployeeNumber | ... | RelationshipSatisfaction | StandardHours | StockOptionLevel | TotalWorkingYears | TrainingTimesLastYear | WorkLifeBalance | YearsAtCompany | YearsInCurrentRole | YearsSinceLastPromotion | YearsWithCurrManager |\n",
       "|---|---|---|---|---|---|---|---|---|---|---|---|---|---|---|---|---|---|---|---|---|\n",
       "| 41                     | Yes                    | Travel_Rarely          | 1102                   | Sales                  | 1                      | 2                      | Life Sciences          | 1                      | 1                      | ...                    | 1                      | 80                     | 0                      |  8                     | 0                      | 1                      |  6                     | 4                      | 0                      | 5                      |\n",
       "| 49                     | No                     | Travel_Frequently      |  279                   | Research & Development | 8                      | 1                      | Life Sciences          | 1                      | 2                      | ...                    | 4                      | 80                     | 1                      | 10                     | 3                      | 3                      | 10                     | 7                      | 1                      | 7                      |\n",
       "| 37                     | Yes                    | Travel_Rarely          | 1373                   | Research & Development | 2                      | 2                      | Other                  | 1                      | 4                      | ...                    | 2                      | 80                     | 0                      |  7                     | 3                      | 3                      |  0                     | 0                      | 0                      | 0                      |\n",
       "| 33                     | No                     | Travel_Frequently      | 1392                   | Research & Development | 3                      | 4                      | Life Sciences          | 1                      | 5                      | ...                    | 3                      | 80                     | 0                      |  8                     | 3                      | 3                      |  8                     | 7                      | 3                      | 0                      |\n",
       "| 27                     | No                     | Travel_Rarely          |  591                   | Research & Development | 2                      | 1                      | Medical                | 1                      | 7                      | ...                    | 4                      | 80                     | 1                      |  6                     | 3                      | 3                      |  2                     | 2                      | 2                      | 2                      |\n",
       "| 32                     | No                     | Travel_Frequently      | 1005                   | Research & Development | 2                      | 2                      | Life Sciences          | 1                      | 8                      | ...                    | 3                      | 80                     | 0                      |  8                     | 2                      | 2                      |  7                     | 7                      | 3                      | 6                      |\n",
       "\n"
      ],
      "text/plain": [
       "  ï..Age Attrition BusinessTravel    DailyRate Department            \n",
       "1 41     Yes       Travel_Rarely     1102      Sales                 \n",
       "2 49     No        Travel_Frequently  279      Research & Development\n",
       "3 37     Yes       Travel_Rarely     1373      Research & Development\n",
       "4 33     No        Travel_Frequently 1392      Research & Development\n",
       "5 27     No        Travel_Rarely      591      Research & Development\n",
       "6 32     No        Travel_Frequently 1005      Research & Development\n",
       "  DistanceFromHome Education EducationField EmployeeCount EmployeeNumber ...\n",
       "1 1                2         Life Sciences  1             1              ...\n",
       "2 8                1         Life Sciences  1             2              ...\n",
       "3 2                2         Other          1             4              ...\n",
       "4 3                4         Life Sciences  1             5              ...\n",
       "5 2                1         Medical        1             7              ...\n",
       "6 2                2         Life Sciences  1             8              ...\n",
       "  RelationshipSatisfaction StandardHours StockOptionLevel TotalWorkingYears\n",
       "1 1                        80            0                 8               \n",
       "2 4                        80            1                10               \n",
       "3 2                        80            0                 7               \n",
       "4 3                        80            0                 8               \n",
       "5 4                        80            1                 6               \n",
       "6 3                        80            0                 8               \n",
       "  TrainingTimesLastYear WorkLifeBalance YearsAtCompany YearsInCurrentRole\n",
       "1 0                     1                6             4                 \n",
       "2 3                     3               10             7                 \n",
       "3 3                     3                0             0                 \n",
       "4 3                     3                8             7                 \n",
       "5 3                     3                2             2                 \n",
       "6 2                     2                7             7                 \n",
       "  YearsSinceLastPromotion YearsWithCurrManager\n",
       "1 0                       5                   \n",
       "2 1                       7                   \n",
       "3 0                       0                   \n",
       "4 3                       0                   \n",
       "5 2                       2                   \n",
       "6 3                       6                   "
      ]
     },
     "metadata": {},
     "output_type": "display_data"
    }
   ],
   "source": [
    "head(attrition)"
   ]
  },
  {
   "cell_type": "code",
   "execution_count": 15,
   "metadata": {},
   "outputs": [
    {
     "data": {
      "text/html": [
       "<table>\n",
       "<thead><tr><th></th><th scope=col>ï..Age</th><th scope=col>Attrition</th><th scope=col>BusinessTravel</th><th scope=col>DailyRate</th><th scope=col>Department</th><th scope=col>DistanceFromHome</th><th scope=col>Education</th><th scope=col>EducationField</th><th scope=col>EmployeeCount</th><th scope=col>EmployeeNumber</th><th scope=col>...</th><th scope=col>RelationshipSatisfaction</th><th scope=col>StandardHours</th><th scope=col>StockOptionLevel</th><th scope=col>TotalWorkingYears</th><th scope=col>TrainingTimesLastYear</th><th scope=col>WorkLifeBalance</th><th scope=col>YearsAtCompany</th><th scope=col>YearsInCurrentRole</th><th scope=col>YearsSinceLastPromotion</th><th scope=col>YearsWithCurrManager</th></tr></thead>\n",
       "<tbody>\n",
       "\t<tr><th scope=row>1465</th><td>26                    </td><td>No                    </td><td>Travel_Rarely         </td><td>1167                  </td><td>Sales                 </td><td> 5                    </td><td>3                     </td><td>Other                 </td><td>1                     </td><td>2060                  </td><td>...                   </td><td>4                     </td><td>80                    </td><td>0                     </td><td> 5                    </td><td>2                     </td><td>3                     </td><td>4                     </td><td>2                     </td><td>0                     </td><td>0                     </td></tr>\n",
       "\t<tr><th scope=row>1466</th><td>36                                                   </td><td>No                                                   </td><td>Travel_Frequently                                    </td><td> 884                                                 </td><td>Research &amp; Development                           </td><td>23                                                   </td><td>2                                                    </td><td><span style=white-space:pre-wrap>Medical      </span></td><td>1                                                    </td><td>2061                                                 </td><td>...                                                  </td><td>3                                                    </td><td>80                                                   </td><td>1                                                    </td><td>17                                                   </td><td>3                                                    </td><td>3                                                    </td><td>5                                                    </td><td>2                                                    </td><td>0                                                    </td><td>3                                                    </td></tr>\n",
       "\t<tr><th scope=row>1467</th><td>39                                                       </td><td>No                                                       </td><td><span style=white-space:pre-wrap>Travel_Rarely    </span></td><td> 613                                                     </td><td>Research &amp; Development                               </td><td> 6                                                       </td><td>1                                                        </td><td><span style=white-space:pre-wrap>Medical      </span>    </td><td>1                                                        </td><td>2062                                                     </td><td>...                                                      </td><td>1                                                        </td><td>80                                                       </td><td>1                                                        </td><td> 9                                                       </td><td>5                                                        </td><td>3                                                        </td><td>7                                                        </td><td>7                                                        </td><td>1                                                        </td><td>7                                                        </td></tr>\n",
       "\t<tr><th scope=row>1468</th><td>27                                                       </td><td>No                                                       </td><td><span style=white-space:pre-wrap>Travel_Rarely    </span></td><td> 155                                                     </td><td>Research &amp; Development                               </td><td> 4                                                       </td><td>3                                                        </td><td>Life Sciences                                            </td><td>1                                                        </td><td>2064                                                     </td><td>...                                                      </td><td>2                                                        </td><td>80                                                       </td><td>1                                                        </td><td> 6                                                       </td><td>0                                                        </td><td>3                                                        </td><td>6                                                        </td><td>2                                                        </td><td>0                                                        </td><td>3                                                        </td></tr>\n",
       "\t<tr><th scope=row>1469</th><td>49                    </td><td>No                    </td><td>Travel_Frequently     </td><td>1023                  </td><td>Sales                 </td><td> 2                    </td><td>3                     </td><td>Medical               </td><td>1                     </td><td>2065                  </td><td>...                   </td><td>4                     </td><td>80                    </td><td>0                     </td><td>17                    </td><td>3                     </td><td>2                     </td><td>9                     </td><td>6                     </td><td>0                     </td><td>8                     </td></tr>\n",
       "\t<tr><th scope=row>1470</th><td>34                                                       </td><td>No                                                       </td><td><span style=white-space:pre-wrap>Travel_Rarely    </span></td><td> 628                                                     </td><td>Research &amp; Development                               </td><td> 8                                                       </td><td>3                                                        </td><td><span style=white-space:pre-wrap>Medical      </span>    </td><td>1                                                        </td><td>2068                                                     </td><td>...                                                      </td><td>1                                                        </td><td>80                                                       </td><td>0                                                        </td><td> 6                                                       </td><td>3                                                        </td><td>4                                                        </td><td>4                                                        </td><td>3                                                        </td><td>1                                                        </td><td>2                                                        </td></tr>\n",
       "</tbody>\n",
       "</table>\n"
      ],
      "text/latex": [
       "\\begin{tabular}{r|lllllllllllllllllllllllllllllllllll}\n",
       "  & ï..Age & Attrition & BusinessTravel & DailyRate & Department & DistanceFromHome & Education & EducationField & EmployeeCount & EmployeeNumber & ... & RelationshipSatisfaction & StandardHours & StockOptionLevel & TotalWorkingYears & TrainingTimesLastYear & WorkLifeBalance & YearsAtCompany & YearsInCurrentRole & YearsSinceLastPromotion & YearsWithCurrManager\\\\\n",
       "\\hline\n",
       "\t1465 & 26                     & No                     & Travel\\_Rarely        & 1167                   & Sales                  &  5                     & 3                      & Other                  & 1                      & 2060                   & ...                    & 4                      & 80                     & 0                      &  5                     & 2                      & 3                      & 4                      & 2                      & 0                      & 0                     \\\\\n",
       "\t1466 & 36                       & No                       & Travel\\_Frequently      &  884                     & Research \\& Development & 23                       & 2                        & Medical                  & 1                        & 2061                     & ...                      & 3                        & 80                       & 1                        & 17                       & 3                        & 3                        & 5                        & 2                        & 0                        & 3                       \\\\\n",
       "\t1467 & 39                       & No                       & Travel\\_Rarely          &  613                     & Research \\& Development &  6                       & 1                        & Medical                  & 1                        & 2062                     & ...                      & 1                        & 80                       & 1                        &  9                       & 5                        & 3                        & 7                        & 7                        & 1                        & 7                       \\\\\n",
       "\t1468 & 27                       & No                       & Travel\\_Rarely          &  155                     & Research \\& Development &  4                       & 3                        & Life Sciences            & 1                        & 2064                     & ...                      & 2                        & 80                       & 1                        &  6                       & 0                        & 3                        & 6                        & 2                        & 0                        & 3                       \\\\\n",
       "\t1469 & 49                     & No                     & Travel\\_Frequently    & 1023                   & Sales                  &  2                     & 3                      & Medical                & 1                      & 2065                   & ...                    & 4                      & 80                     & 0                      & 17                     & 3                      & 2                      & 9                      & 6                      & 0                      & 8                     \\\\\n",
       "\t1470 & 34                       & No                       & Travel\\_Rarely          &  628                     & Research \\& Development &  8                       & 3                        & Medical                  & 1                        & 2068                     & ...                      & 1                        & 80                       & 0                        &  6                       & 3                        & 4                        & 4                        & 3                        & 1                        & 2                       \\\\\n",
       "\\end{tabular}\n"
      ],
      "text/markdown": [
       "\n",
       "| <!--/--> | ï..Age | Attrition | BusinessTravel | DailyRate | Department | DistanceFromHome | Education | EducationField | EmployeeCount | EmployeeNumber | ... | RelationshipSatisfaction | StandardHours | StockOptionLevel | TotalWorkingYears | TrainingTimesLastYear | WorkLifeBalance | YearsAtCompany | YearsInCurrentRole | YearsSinceLastPromotion | YearsWithCurrManager |\n",
       "|---|---|---|---|---|---|---|---|---|---|---|---|---|---|---|---|---|---|---|---|---|---|\n",
       "| 1465 | 26                     | No                     | Travel_Rarely          | 1167                   | Sales                  |  5                     | 3                      | Other                  | 1                      | 2060                   | ...                    | 4                      | 80                     | 0                      |  5                     | 2                      | 3                      | 4                      | 2                      | 0                      | 0                      |\n",
       "| 1466 | 36                     | No                     | Travel_Frequently      |  884                   | Research & Development | 23                     | 2                      | Medical                | 1                      | 2061                   | ...                    | 3                      | 80                     | 1                      | 17                     | 3                      | 3                      | 5                      | 2                      | 0                      | 3                      |\n",
       "| 1467 | 39                     | No                     | Travel_Rarely          |  613                   | Research & Development |  6                     | 1                      | Medical                | 1                      | 2062                   | ...                    | 1                      | 80                     | 1                      |  9                     | 5                      | 3                      | 7                      | 7                      | 1                      | 7                      |\n",
       "| 1468 | 27                     | No                     | Travel_Rarely          |  155                   | Research & Development |  4                     | 3                      | Life Sciences          | 1                      | 2064                   | ...                    | 2                      | 80                     | 1                      |  6                     | 0                      | 3                      | 6                      | 2                      | 0                      | 3                      |\n",
       "| 1469 | 49                     | No                     | Travel_Frequently      | 1023                   | Sales                  |  2                     | 3                      | Medical                | 1                      | 2065                   | ...                    | 4                      | 80                     | 0                      | 17                     | 3                      | 2                      | 9                      | 6                      | 0                      | 8                      |\n",
       "| 1470 | 34                     | No                     | Travel_Rarely          |  628                   | Research & Development |  8                     | 3                      | Medical                | 1                      | 2068                   | ...                    | 1                      | 80                     | 0                      |  6                     | 3                      | 4                      | 4                      | 3                      | 1                      | 2                      |\n",
       "\n"
      ],
      "text/plain": [
       "     ï..Age Attrition BusinessTravel    DailyRate Department            \n",
       "1465 26     No        Travel_Rarely     1167      Sales                 \n",
       "1466 36     No        Travel_Frequently  884      Research & Development\n",
       "1467 39     No        Travel_Rarely      613      Research & Development\n",
       "1468 27     No        Travel_Rarely      155      Research & Development\n",
       "1469 49     No        Travel_Frequently 1023      Sales                 \n",
       "1470 34     No        Travel_Rarely      628      Research & Development\n",
       "     DistanceFromHome Education EducationField EmployeeCount EmployeeNumber ...\n",
       "1465  5               3         Other          1             2060           ...\n",
       "1466 23               2         Medical        1             2061           ...\n",
       "1467  6               1         Medical        1             2062           ...\n",
       "1468  4               3         Life Sciences  1             2064           ...\n",
       "1469  2               3         Medical        1             2065           ...\n",
       "1470  8               3         Medical        1             2068           ...\n",
       "     RelationshipSatisfaction StandardHours StockOptionLevel TotalWorkingYears\n",
       "1465 4                        80            0                 5               \n",
       "1466 3                        80            1                17               \n",
       "1467 1                        80            1                 9               \n",
       "1468 2                        80            1                 6               \n",
       "1469 4                        80            0                17               \n",
       "1470 1                        80            0                 6               \n",
       "     TrainingTimesLastYear WorkLifeBalance YearsAtCompany YearsInCurrentRole\n",
       "1465 2                     3               4              2                 \n",
       "1466 3                     3               5              2                 \n",
       "1467 5                     3               7              7                 \n",
       "1468 0                     3               6              2                 \n",
       "1469 3                     2               9              6                 \n",
       "1470 3                     4               4              3                 \n",
       "     YearsSinceLastPromotion YearsWithCurrManager\n",
       "1465 0                       0                   \n",
       "1466 0                       3                   \n",
       "1467 1                       7                   \n",
       "1468 0                       3                   \n",
       "1469 0                       8                   \n",
       "1470 1                       2                   "
      ]
     },
     "metadata": {},
     "output_type": "display_data"
    }
   ],
   "source": [
    "tail(attrition)"
   ]
  },
  {
   "cell_type": "code",
   "execution_count": 16,
   "metadata": {},
   "outputs": [],
   "source": [
    "# Drop Over18 from the model\n",
    "attrition$Over18 <- NULL"
   ]
  },
  {
   "cell_type": "markdown",
   "metadata": {},
   "source": [
    "### Train-Test-Validate data"
   ]
  },
  {
   "cell_type": "markdown",
   "metadata": {},
   "source": [
    "Initial split (from the rsample libary)"
   ]
  },
  {
   "cell_type": "code",
   "execution_count": 17,
   "metadata": {},
   "outputs": [],
   "source": [
    "set.seed(42)\n",
    "attr_split <- initial_split(attrition, prop=0.75)"
   ]
  },
  {
   "cell_type": "code",
   "execution_count": 18,
   "metadata": {},
   "outputs": [
    {
     "data": {
      "text/plain": [
       "       Length Class      Mode   \n",
       "data     34   data.frame list   \n",
       "in_id  1103   -none-     numeric\n",
       "out_id    1   -none-     logical\n",
       "id        1   tbl_df     list   "
      ]
     },
     "metadata": {},
     "output_type": "display_data"
    }
   ],
   "source": [
    "summary(attr_split)"
   ]
  },
  {
   "cell_type": "markdown",
   "metadata": {},
   "source": [
    "Read out training and testing data into variables"
   ]
  },
  {
   "cell_type": "code",
   "execution_count": 19,
   "metadata": {},
   "outputs": [
    {
     "data": {
      "text/html": [
       "<table>\n",
       "<thead><tr><th></th><th scope=col>ï..Age</th><th scope=col>Attrition</th><th scope=col>BusinessTravel</th><th scope=col>DailyRate</th><th scope=col>Department</th><th scope=col>DistanceFromHome</th><th scope=col>Education</th><th scope=col>EducationField</th><th scope=col>EmployeeCount</th><th scope=col>EmployeeNumber</th><th scope=col>...</th><th scope=col>RelationshipSatisfaction</th><th scope=col>StandardHours</th><th scope=col>StockOptionLevel</th><th scope=col>TotalWorkingYears</th><th scope=col>TrainingTimesLastYear</th><th scope=col>WorkLifeBalance</th><th scope=col>YearsAtCompany</th><th scope=col>YearsInCurrentRole</th><th scope=col>YearsSinceLastPromotion</th><th scope=col>YearsWithCurrManager</th></tr></thead>\n",
       "<tbody>\n",
       "\t<tr><th scope=row>5</th><td>27                        </td><td>No                        </td><td>Travel_Rarely             </td><td> 591                      </td><td>Research &amp; Development</td><td>2                         </td><td>1                         </td><td>Medical                   </td><td>1                         </td><td> 7                        </td><td>...                       </td><td>4                         </td><td>80                        </td><td>1                         </td><td> 6                        </td><td>3                         </td><td>3                         </td><td>2                         </td><td>2                         </td><td>2                         </td><td>2                         </td></tr>\n",
       "\t<tr><th scope=row>7</th><td>59                        </td><td>No                        </td><td>Travel_Rarely             </td><td>1324                      </td><td>Research &amp; Development</td><td>3                         </td><td>3                         </td><td>Medical                   </td><td>1                         </td><td>10                        </td><td>...                       </td><td>1                         </td><td>80                        </td><td>3                         </td><td>12                        </td><td>3                         </td><td>2                         </td><td>1                         </td><td>0                         </td><td>0                         </td><td>0                         </td></tr>\n",
       "</tbody>\n",
       "</table>\n"
      ],
      "text/latex": [
       "\\begin{tabular}{r|llllllllllllllllllllllllllllllllll}\n",
       "  & ï..Age & Attrition & BusinessTravel & DailyRate & Department & DistanceFromHome & Education & EducationField & EmployeeCount & EmployeeNumber & ... & RelationshipSatisfaction & StandardHours & StockOptionLevel & TotalWorkingYears & TrainingTimesLastYear & WorkLifeBalance & YearsAtCompany & YearsInCurrentRole & YearsSinceLastPromotion & YearsWithCurrManager\\\\\n",
       "\\hline\n",
       "\t5 & 27                       & No                       & Travel\\_Rarely          &  591                     & Research \\& Development & 2                        & 1                        & Medical                  & 1                        &  7                       & ...                      & 4                        & 80                       & 1                        &  6                       & 3                        & 3                        & 2                        & 2                        & 2                        & 2                       \\\\\n",
       "\t7 & 59                       & No                       & Travel\\_Rarely          & 1324                     & Research \\& Development & 3                        & 3                        & Medical                  & 1                        & 10                       & ...                      & 1                        & 80                       & 3                        & 12                       & 3                        & 2                        & 1                        & 0                        & 0                        & 0                       \\\\\n",
       "\\end{tabular}\n"
      ],
      "text/markdown": [
       "\n",
       "| <!--/--> | ï..Age | Attrition | BusinessTravel | DailyRate | Department | DistanceFromHome | Education | EducationField | EmployeeCount | EmployeeNumber | ... | RelationshipSatisfaction | StandardHours | StockOptionLevel | TotalWorkingYears | TrainingTimesLastYear | WorkLifeBalance | YearsAtCompany | YearsInCurrentRole | YearsSinceLastPromotion | YearsWithCurrManager |\n",
       "|---|---|---|---|---|---|---|---|---|---|---|---|---|---|---|---|---|---|---|---|---|---|\n",
       "| 5 | 27                     | No                     | Travel_Rarely          |  591                   | Research & Development | 2                      | 1                      | Medical                | 1                      |  7                     | ...                    | 4                      | 80                     | 1                      |  6                     | 3                      | 3                      | 2                      | 2                      | 2                      | 2                      |\n",
       "| 7 | 59                     | No                     | Travel_Rarely          | 1324                   | Research & Development | 3                      | 3                      | Medical                | 1                      | 10                     | ...                    | 1                      | 80                     | 3                      | 12                     | 3                      | 2                      | 1                      | 0                      | 0                      | 0                      |\n",
       "\n"
      ],
      "text/plain": [
       "  ï..Age Attrition BusinessTravel DailyRate Department            \n",
       "5 27     No        Travel_Rarely   591      Research & Development\n",
       "7 59     No        Travel_Rarely  1324      Research & Development\n",
       "  DistanceFromHome Education EducationField EmployeeCount EmployeeNumber ...\n",
       "5 2                1         Medical        1              7             ...\n",
       "7 3                3         Medical        1             10             ...\n",
       "  RelationshipSatisfaction StandardHours StockOptionLevel TotalWorkingYears\n",
       "5 4                        80            1                 6               \n",
       "7 1                        80            3                12               \n",
       "  TrainingTimesLastYear WorkLifeBalance YearsAtCompany YearsInCurrentRole\n",
       "5 3                     3               2              2                 \n",
       "7 3                     2               1              0                 \n",
       "  YearsSinceLastPromotion YearsWithCurrManager\n",
       "5 2                       2                   \n",
       "7 0                       0                   "
      ]
     },
     "metadata": {},
     "output_type": "display_data"
    },
    {
     "data": {
      "text/html": [
       "<ol class=list-inline>\n",
       "\t<li>1103</li>\n",
       "\t<li>34</li>\n",
       "</ol>\n"
      ],
      "text/latex": [
       "\\begin{enumerate*}\n",
       "\\item 1103\n",
       "\\item 34\n",
       "\\end{enumerate*}\n"
      ],
      "text/markdown": [
       "1. 1103\n",
       "2. 34\n",
       "\n",
       "\n"
      ],
      "text/plain": [
       "[1] 1103   34"
      ]
     },
     "metadata": {},
     "output_type": "display_data"
    }
   ],
   "source": [
    "training_attr <- training(attr_split)\n",
    "head(training_attr, 2)\n",
    "dim(training_attr)"
   ]
  },
  {
   "cell_type": "code",
   "execution_count": 20,
   "metadata": {},
   "outputs": [
    {
     "data": {
      "text/html": [
       "<table>\n",
       "<thead><tr><th scope=col>ï..Age</th><th scope=col>Attrition</th><th scope=col>BusinessTravel</th><th scope=col>DailyRate</th><th scope=col>Department</th><th scope=col>DistanceFromHome</th><th scope=col>Education</th><th scope=col>EducationField</th><th scope=col>EmployeeCount</th><th scope=col>EmployeeNumber</th><th scope=col>...</th><th scope=col>RelationshipSatisfaction</th><th scope=col>StandardHours</th><th scope=col>StockOptionLevel</th><th scope=col>TotalWorkingYears</th><th scope=col>TrainingTimesLastYear</th><th scope=col>WorkLifeBalance</th><th scope=col>YearsAtCompany</th><th scope=col>YearsInCurrentRole</th><th scope=col>YearsSinceLastPromotion</th><th scope=col>YearsWithCurrManager</th></tr></thead>\n",
       "<tbody>\n",
       "\t<tr><td>41                    </td><td>Yes                   </td><td>Travel_Rarely         </td><td>1102                  </td><td>Sales                 </td><td>1                     </td><td>2                     </td><td>Life Sciences         </td><td>1                     </td><td>1                     </td><td>...                   </td><td>1                     </td><td>80                    </td><td>0                     </td><td> 8                    </td><td>0                     </td><td>1                     </td><td> 6                    </td><td>4                     </td><td>0                     </td><td>5                     </td></tr>\n",
       "\t<tr><td>49                        </td><td>No                        </td><td>Travel_Frequently         </td><td> 279                      </td><td>Research &amp; Development</td><td>8                         </td><td>1                         </td><td>Life Sciences             </td><td>1                         </td><td>2                         </td><td>...                       </td><td>4                         </td><td>80                        </td><td>1                         </td><td>10                        </td><td>3                         </td><td>3                         </td><td>10                        </td><td>7                         </td><td>1                         </td><td>7                         </td></tr>\n",
       "</tbody>\n",
       "</table>\n"
      ],
      "text/latex": [
       "\\begin{tabular}{r|llllllllllllllllllllllllllllllllll}\n",
       " ï..Age & Attrition & BusinessTravel & DailyRate & Department & DistanceFromHome & Education & EducationField & EmployeeCount & EmployeeNumber & ... & RelationshipSatisfaction & StandardHours & StockOptionLevel & TotalWorkingYears & TrainingTimesLastYear & WorkLifeBalance & YearsAtCompany & YearsInCurrentRole & YearsSinceLastPromotion & YearsWithCurrManager\\\\\n",
       "\\hline\n",
       "\t 41                     & Yes                    & Travel\\_Rarely        & 1102                   & Sales                  & 1                      & 2                      & Life Sciences          & 1                      & 1                      & ...                    & 1                      & 80                     & 0                      &  8                     & 0                      & 1                      &  6                     & 4                      & 0                      & 5                     \\\\\n",
       "\t 49                       & No                       & Travel\\_Frequently      &  279                     & Research \\& Development & 8                        & 1                        & Life Sciences            & 1                        & 2                        & ...                      & 4                        & 80                       & 1                        & 10                       & 3                        & 3                        & 10                       & 7                        & 1                        & 7                       \\\\\n",
       "\\end{tabular}\n"
      ],
      "text/markdown": [
       "\n",
       "| ï..Age | Attrition | BusinessTravel | DailyRate | Department | DistanceFromHome | Education | EducationField | EmployeeCount | EmployeeNumber | ... | RelationshipSatisfaction | StandardHours | StockOptionLevel | TotalWorkingYears | TrainingTimesLastYear | WorkLifeBalance | YearsAtCompany | YearsInCurrentRole | YearsSinceLastPromotion | YearsWithCurrManager |\n",
       "|---|---|---|---|---|---|---|---|---|---|---|---|---|---|---|---|---|---|---|---|---|\n",
       "| 41                     | Yes                    | Travel_Rarely          | 1102                   | Sales                  | 1                      | 2                      | Life Sciences          | 1                      | 1                      | ...                    | 1                      | 80                     | 0                      |  8                     | 0                      | 1                      |  6                     | 4                      | 0                      | 5                      |\n",
       "| 49                     | No                     | Travel_Frequently      |  279                   | Research & Development | 8                      | 1                      | Life Sciences          | 1                      | 2                      | ...                    | 4                      | 80                     | 1                      | 10                     | 3                      | 3                      | 10                     | 7                      | 1                      | 7                      |\n",
       "\n"
      ],
      "text/plain": [
       "  ï..Age Attrition BusinessTravel    DailyRate Department            \n",
       "1 41     Yes       Travel_Rarely     1102      Sales                 \n",
       "2 49     No        Travel_Frequently  279      Research & Development\n",
       "  DistanceFromHome Education EducationField EmployeeCount EmployeeNumber ...\n",
       "1 1                2         Life Sciences  1             1              ...\n",
       "2 8                1         Life Sciences  1             2              ...\n",
       "  RelationshipSatisfaction StandardHours StockOptionLevel TotalWorkingYears\n",
       "1 1                        80            0                 8               \n",
       "2 4                        80            1                10               \n",
       "  TrainingTimesLastYear WorkLifeBalance YearsAtCompany YearsInCurrentRole\n",
       "1 0                     1                6             4                 \n",
       "2 3                     3               10             7                 \n",
       "  YearsSinceLastPromotion YearsWithCurrManager\n",
       "1 0                       5                   \n",
       "2 1                       7                   "
      ]
     },
     "metadata": {},
     "output_type": "display_data"
    },
    {
     "data": {
      "text/html": [
       "<ol class=list-inline>\n",
       "\t<li>367</li>\n",
       "\t<li>34</li>\n",
       "</ol>\n"
      ],
      "text/latex": [
       "\\begin{enumerate*}\n",
       "\\item 367\n",
       "\\item 34\n",
       "\\end{enumerate*}\n"
      ],
      "text/markdown": [
       "1. 367\n",
       "2. 34\n",
       "\n",
       "\n"
      ],
      "text/plain": [
       "[1] 367  34"
      ]
     },
     "metadata": {},
     "output_type": "display_data"
    }
   ],
   "source": [
    "testing_attr <- testing(attr_split)\n",
    "head(testing_attr, 2)\n",
    "dim(testing_attr)\n"
   ]
  },
  {
   "cell_type": "markdown",
   "metadata": {},
   "source": [
    "Train-Validate Split<br>\n",
    "Create folds. <br>\n",
    "Creating a number of folds means deviding the training data into subsets.<br>\n"
   ]
  },
  {
   "cell_type": "code",
   "execution_count": 21,
   "metadata": {},
   "outputs": [
    {
     "data": {
      "text/plain": [
       " splits.Length  splits.Class  splits.Mode      id           \n",
       " 4       rsplit  list                     Length:5          \n",
       " 4       rsplit  list                     Class :character  \n",
       " 4       rsplit  list                     Mode  :character  \n",
       " 4       rsplit  list                                       \n",
       " 4       rsplit  list                                       "
      ]
     },
     "metadata": {},
     "output_type": "display_data"
    }
   ],
   "source": [
    "#v: number of folds\n",
    "cv_split_attr <- vfold_cv(training_attr, v=5)\n",
    "summary(cv_split_attr)\n"
   ]
  },
  {
   "cell_type": "code",
   "execution_count": 22,
   "metadata": {},
   "outputs": [
    {
     "name": "stdout",
     "output_type": "stream",
     "text": [
      "Classes 'rset', 'tbl_df', 'tbl' and 'data.frame':\t1 obs. of  1 variable:\n",
      " $ splits:List of 1\n",
      "  ..$ 1:List of 4\n",
      "  .. ..$ data  :'data.frame':\t1103 obs. of  34 variables:\n",
      "  .. .. ..$ ï..Age                  : int  27 59 30 38 36 29 31 34 28 29 ...\n",
      "  .. .. ..$ Attrition               : Factor w/ 2 levels \"No\",\"Yes\": 1 1 1 1 1 1 1 1 2 1 ...\n",
      "  .. .. ..$ BusinessTravel          : Factor w/ 3 levels \"Non-Travel\",\"Travel_Frequently\",..: 3 3 3 2 3 3 3 3 3 3 ...\n",
      "  .. .. ..$ DailyRate               : int  591 1324 1358 216 1299 153 670 1346 103 1389 ...\n",
      "  .. .. ..$ Department              : Factor w/ 3 levels \"Human Resources\",..: 2 2 2 2 2 2 2 2 2 2 ...\n",
      "  .. .. ..$ DistanceFromHome        : int  2 3 24 23 27 15 26 19 24 21 ...\n",
      "  .. .. ..$ Education               : int  1 3 1 3 3 2 1 2 3 4 ...\n",
      "  .. .. ..$ EducationField          : Factor w/ 6 levels \"Human Resources\",..: 4 4 2 2 4 2 2 4 2 2 ...\n",
      "  .. .. ..$ EmployeeCount           : int  1 1 1 1 1 1 1 1 1 1 ...\n",
      "  .. .. ..$ EmployeeNumber          : int  7 10 11 12 13 15 16 18 19 20 ...\n",
      "  .. .. ..$ EnvironmentSatisfaction : int  1 3 4 4 3 4 1 2 3 2 ...\n",
      "  .. .. ..$ Gender                  : Factor w/ 2 levels \"Female\",\"Male\": 2 1 2 2 2 1 2 2 2 1 ...\n",
      "  .. .. ..$ HourlyRate              : int  40 81 67 44 94 49 31 93 50 51 ...\n",
      "  .. .. ..$ JobInvolvement          : int  3 4 3 2 3 2 3 3 2 4 ...\n",
      "  .. .. ..$ JobLevel                : int  1 1 1 3 2 2 1 1 1 3 ...\n",
      "  .. .. ..$ JobRole                 : Factor w/ 9 levels \"Healthcare Representative\",..: 3 3 3 5 1 3 7 3 3 5 ...\n",
      "  .. .. ..$ JobSatisfaction         : int  2 1 3 3 3 3 3 4 3 1 ...\n",
      "  .. .. ..$ MaritalStatus           : Factor w/ 3 levels \"Divorced\",\"Married\",..: 2 2 1 3 2 3 1 1 3 1 ...\n",
      "  .. .. ..$ MonthlyIncome           : int  3468 2670 2693 9526 5237 4193 2911 2661 2028 9980 ...\n",
      "  .. .. ..$ MonthlyRate             : int  16632 9964 13335 8787 16577 12682 15170 8758 12947 10195 ...\n",
      "  .. .. ..$ NumCompaniesWorked      : int  9 4 1 0 6 0 1 0 5 1 ...\n",
      "  .. .. ..$ OverTime                : Factor w/ 2 levels \"No\",\"Yes\": 1 2 1 1 1 2 1 1 2 1 ...\n",
      "  .. .. ..$ PercentSalaryHike       : int  12 20 22 21 13 12 17 11 14 11 ...\n",
      "  .. .. ..$ PerformanceRating       : int  3 4 4 4 3 3 3 3 3 3 ...\n",
      "  .. .. ..$ RelationshipSatisfaction: int  4 1 2 2 2 4 4 3 2 3 ...\n",
      "  .. .. ..$ StandardHours           : int  80 80 80 80 80 80 80 80 80 80 ...\n",
      "  .. .. ..$ StockOptionLevel        : int  1 3 1 0 2 0 1 1 0 1 ...\n",
      "  .. .. ..$ TotalWorkingYears       : int  6 12 1 10 17 10 5 3 6 10 ...\n",
      "  .. .. ..$ TrainingTimesLastYear   : int  3 3 2 2 3 3 1 2 4 1 ...\n",
      "  .. .. ..$ WorkLifeBalance         : int  3 2 3 3 2 3 2 3 3 3 ...\n",
      "  .. .. ..$ YearsAtCompany          : int  2 1 1 9 7 9 5 2 4 10 ...\n",
      "  .. .. ..$ YearsInCurrentRole      : int  2 0 0 7 7 5 2 2 2 9 ...\n",
      "  .. .. ..$ YearsSinceLastPromotion : int  2 0 0 1 7 0 4 1 0 8 ...\n",
      "  .. .. ..$ YearsWithCurrManager    : int  2 0 0 8 7 8 3 2 3 8 ...\n",
      "  .. ..$ in_id : int  2 3 4 5 6 7 8 9 11 14 ...\n",
      "  .. ..$ out_id: logi NA\n",
      "  .. ..$ id    :Classes 'tbl_df', 'tbl' and 'data.frame':\t1 obs. of  1 variable:\n",
      "  .. .. ..$ id: chr \"Fold1\"\n",
      "  .. ..- attr(*, \"class\")= chr  \"rsplit\" \"vfold_split\"\n"
     ]
    }
   ],
   "source": [
    "str(cv_split_attr[1,1])"
   ]
  },
  {
   "cell_type": "markdown",
   "metadata": {},
   "source": [
    "This creates a data frame, which stores 5 folds, whereby each split contains list of the original data frame."
   ]
  },
  {
   "cell_type": "markdown",
   "metadata": {},
   "source": [
    "Create train-validation <br>\n",
    "The folds or subsets are now themselves devided into training and testing data.<br>\n",
    "Essentially this is cross-validation: <br>\n",
    "First create subsets or folds.<br>\n",
    "Second devide folds into training and validation (testing) sets."
   ]
  },
  {
   "cell_type": "code",
   "execution_count": 23,
   "metadata": {},
   "outputs": [],
   "source": [
    "cv_data_attr <- cv_split_attr %>% mutate(train=map(.x = splits, .f=~training(.x)),\n",
    "                                         test=map(.x=splits, .f=~testing(.x)))\n"
   ]
  },
  {
   "cell_type": "code",
   "execution_count": 24,
   "metadata": {},
   "outputs": [
    {
     "data": {
      "text/html": [
       "<ol class=list-inline>\n",
       "\t<li>'vfold_cv'</li>\n",
       "\t<li>'rset'</li>\n",
       "\t<li>'tbl_df'</li>\n",
       "\t<li>'tbl'</li>\n",
       "\t<li>'data.frame'</li>\n",
       "</ol>\n"
      ],
      "text/latex": [
       "\\begin{enumerate*}\n",
       "\\item 'vfold\\_cv'\n",
       "\\item 'rset'\n",
       "\\item 'tbl\\_df'\n",
       "\\item 'tbl'\n",
       "\\item 'data.frame'\n",
       "\\end{enumerate*}\n"
      ],
      "text/markdown": [
       "1. 'vfold_cv'\n",
       "2. 'rset'\n",
       "3. 'tbl_df'\n",
       "4. 'tbl'\n",
       "5. 'data.frame'\n",
       "\n",
       "\n"
      ],
      "text/plain": [
       "[1] \"vfold_cv\"   \"rset\"       \"tbl_df\"     \"tbl\"        \"data.frame\""
      ]
     },
     "metadata": {},
     "output_type": "display_data"
    }
   ],
   "source": [
    "class(cv_data_attr)"
   ]
  },
  {
   "cell_type": "code",
   "execution_count": 25,
   "metadata": {},
   "outputs": [
    {
     "data": {
      "text/html": [
       "<ol class=list-inline>\n",
       "\t<li>'splits'</li>\n",
       "\t<li>'id'</li>\n",
       "\t<li>'train'</li>\n",
       "\t<li>'test'</li>\n",
       "</ol>\n"
      ],
      "text/latex": [
       "\\begin{enumerate*}\n",
       "\\item 'splits'\n",
       "\\item 'id'\n",
       "\\item 'train'\n",
       "\\item 'test'\n",
       "\\end{enumerate*}\n"
      ],
      "text/markdown": [
       "1. 'splits'\n",
       "2. 'id'\n",
       "3. 'train'\n",
       "4. 'test'\n",
       "\n",
       "\n"
      ],
      "text/plain": [
       "[1] \"splits\" \"id\"     \"train\"  \"test\"  "
      ]
     },
     "metadata": {},
     "output_type": "display_data"
    }
   ],
   "source": [
    "colnames(cv_data_attr)"
   ]
  },
  {
   "cell_type": "markdown",
   "metadata": {},
   "source": [
    "Now the data is split into training, validation (5-folds) and test data and is therefore \n",
    "prepared for model building."
   ]
  },
  {
   "cell_type": "markdown",
   "metadata": {},
   "source": [
    "Building cross-validated models"
   ]
  },
  {
   "cell_type": "code",
   "execution_count": 26,
   "metadata": {},
   "outputs": [
    {
     "data": {
      "text/html": [
       "<ol class=list-inline>\n",
       "\t<li>'splits'</li>\n",
       "\t<li>'id'</li>\n",
       "\t<li>'train'</li>\n",
       "\t<li>'test'</li>\n",
       "</ol>\n"
      ],
      "text/latex": [
       "\\begin{enumerate*}\n",
       "\\item 'splits'\n",
       "\\item 'id'\n",
       "\\item 'train'\n",
       "\\item 'test'\n",
       "\\end{enumerate*}\n"
      ],
      "text/markdown": [
       "1. 'splits'\n",
       "2. 'id'\n",
       "3. 'train'\n",
       "4. 'test'\n",
       "\n",
       "\n"
      ],
      "text/plain": [
       "[1] \"splits\" \"id\"     \"train\"  \"test\"  "
      ]
     },
     "metadata": {},
     "output_type": "display_data"
    }
   ],
   "source": [
    "colnames(cv_data_attr)"
   ]
  },
  {
   "cell_type": "code",
   "execution_count": 27,
   "metadata": {},
   "outputs": [
    {
     "name": "stdout",
     "output_type": "stream",
     "text": [
      "Classes 'tbl_df', 'tbl' and 'data.frame':\t1 obs. of  1 variable:\n",
      " $ train:List of 1\n",
      "  ..$ 1:'data.frame':\t882 obs. of  34 variables:\n",
      "  .. ..$ ï..Age                  : int  59 30 38 36 29 31 34 28 32 38 ...\n",
      "  .. ..$ Attrition               : Factor w/ 2 levels \"No\",\"Yes\": 1 1 1 1 1 1 1 2 1 1 ...\n",
      "  .. ..$ BusinessTravel          : Factor w/ 3 levels \"Non-Travel\",\"Travel_Frequently\",..: 3 3 2 3 3 3 3 3 3 3 ...\n",
      "  .. ..$ DailyRate               : int  1324 1358 216 1299 153 670 1346 103 334 371 ...\n",
      "  .. ..$ Department              : Factor w/ 3 levels \"Human Resources\",..: 2 2 2 2 2 2 2 2 2 2 ...\n",
      "  .. ..$ DistanceFromHome        : int  3 24 23 27 15 26 19 24 5 2 ...\n",
      "  .. ..$ Education               : int  3 1 3 3 2 1 2 3 2 3 ...\n",
      "  .. ..$ EducationField          : Factor w/ 6 levels \"Human Resources\",..: 4 2 2 4 2 2 4 2 2 2 ...\n",
      "  .. ..$ EmployeeCount           : int  1 1 1 1 1 1 1 1 1 1 ...\n",
      "  .. ..$ EmployeeNumber          : int  10 11 12 13 15 16 18 19 21 24 ...\n",
      "  .. ..$ EnvironmentSatisfaction : int  3 4 4 3 4 1 2 3 1 4 ...\n",
      "  .. ..$ Gender                  : Factor w/ 2 levels \"Female\",\"Male\": 1 2 2 2 1 2 2 2 2 2 ...\n",
      "  .. ..$ HourlyRate              : int  81 67 44 94 49 31 93 50 80 45 ...\n",
      "  .. ..$ JobInvolvement          : int  4 3 2 3 2 3 3 2 4 3 ...\n",
      "  .. ..$ JobLevel                : int  1 1 3 2 2 1 1 1 1 1 ...\n",
      "  .. ..$ JobRole                 : Factor w/ 9 levels \"Healthcare Representative\",..: 3 3 5 1 3 7 3 3 7 7 ...\n",
      "  .. ..$ JobSatisfaction         : int  1 3 3 3 3 3 4 3 2 4 ...\n",
      "  .. ..$ MaritalStatus           : Factor w/ 3 levels \"Divorced\",\"Married\",..: 2 1 3 2 3 1 1 3 1 3 ...\n",
      "  .. ..$ MonthlyIncome           : int  2670 2693 9526 5237 4193 2911 2661 2028 3298 3944 ...\n",
      "  .. ..$ MonthlyRate             : int  9964 13335 8787 16577 12682 15170 8758 12947 15053 4306 ...\n",
      "  .. ..$ NumCompaniesWorked      : int  4 1 0 6 0 1 0 5 0 5 ...\n",
      "  .. ..$ OverTime                : Factor w/ 2 levels \"No\",\"Yes\": 2 1 1 1 2 1 1 2 2 2 ...\n",
      "  .. ..$ PercentSalaryHike       : int  20 22 21 13 12 17 11 14 12 11 ...\n",
      "  .. ..$ PerformanceRating       : int  4 4 4 3 3 3 3 3 3 3 ...\n",
      "  .. ..$ RelationshipSatisfaction: int  1 2 2 2 4 4 3 2 4 3 ...\n",
      "  .. ..$ StandardHours           : int  80 80 80 80 80 80 80 80 80 80 ...\n",
      "  .. ..$ StockOptionLevel        : int  3 1 0 2 0 1 1 0 2 0 ...\n",
      "  .. ..$ TotalWorkingYears       : int  12 1 10 17 10 5 3 6 7 6 ...\n",
      "  .. ..$ TrainingTimesLastYear   : int  3 2 2 3 3 1 2 4 5 3 ...\n",
      "  .. ..$ WorkLifeBalance         : int  2 3 3 2 3 2 3 3 2 3 ...\n",
      "  .. ..$ YearsAtCompany          : int  1 1 9 7 9 5 2 4 6 3 ...\n",
      "  .. ..$ YearsInCurrentRole      : int  0 0 7 7 5 2 2 2 2 2 ...\n",
      "  .. ..$ YearsSinceLastPromotion : int  0 0 1 7 0 4 1 0 0 1 ...\n",
      "  .. ..$ YearsWithCurrManager    : int  0 0 8 7 8 3 2 3 5 2 ...\n"
     ]
    }
   ],
   "source": [
    "str(cv_data_attr[1,\"train\"])"
   ]
  },
  {
   "cell_type": "markdown",
   "metadata": {},
   "source": [
    "### Building a logistic regression model "
   ]
  },
  {
   "cell_type": "code",
   "execution_count": 28,
   "metadata": {},
   "outputs": [],
   "source": [
    "# Use all predictor variables as features\n",
    "# cv_models_attr <- cv_data_attr  %>% mutate(model= map(train, ~glm(formula=Attrition~., data=.x, family=\"binomial\")))"
   ]
  },
  {
   "cell_type": "markdown",
   "metadata": {},
   "source": [
    "This model produces the following error: \n",
    "<p>\n",
    "Error in mutate_impl(.data, dots): Evaluation error: contrasts can be applied only to factors with 2 or more levels.Traceback:\n",
    "</p>\n",
    "<p>\n",
    "How to solve this problem?<br>\n",
    "Clue: \"can be applied only to factors with 2 or more levels\"<br>\n",
    "All variables are used as predictors.<br>\n",
    "These factors are:<br>\n",
    "Attrition is a factor.<br>\n",
    "BusinessTravel + Department + EducationField + Gender + JobRole + MaritalStatus + Over18 + OverTime<br>\n",
    "Over18 has only one level: Factor w/ 1 level \"Y\": 1 1 1 1 1 1 1 1 1 1 ...<br>\n",
    "This seems critical.\n",
    "<p>\n",
    "Solution?\n",
    "</p>\n",
    "</p>\n",
    "<p>\n",
    "Induction (Latin inducere 'bring about', 'induce', 'introduce') since Aristotle means the abstracting conclusion of observed phenomena to a more general knowledge, such as a general concept or a law of nature.\n",
    "</p>\n",
    "<p>\n",
    "Test every factor one at a time and observe the result.\n",
    "</p>\n",
    "<p>\n",
    "Result:<br>\n",
    "Over18 throws an error.\n",
    "</p>\n",
    "<p>\n",
    "Investigate:<br> \n",
    "Over18 has only one level. All are over 18. It makes sense to drop it from the model. \n",
    "</p>"
   ]
  },
  {
   "cell_type": "code",
   "execution_count": 29,
   "metadata": {},
   "outputs": [],
   "source": [
    "# Use factor predictor variables as features one at a time\n",
    "cv_models_attr <- cv_data_attr  %>% mutate(model= \n",
    "                                           (map(train, ~glm(formula=Attrition~BusinessTravel+Department + EducationField+ Gender+ JobRole+ MaritalStatus + OverTime , data=.x, family=\"binomial\"))))"
   ]
  },
  {
   "cell_type": "code",
   "execution_count": 30,
   "metadata": {},
   "outputs": [
    {
     "data": {
      "text/plain": [
       " splits.Length  splits.Class  splits.Mode      id           \n",
       " 4       rsplit  list                     Length:5          \n",
       " 4       rsplit  list                     Class :character  \n",
       " 4       rsplit  list                     Mode  :character  \n",
       " 4       rsplit  list                                       \n",
       " 4       rsplit  list                                       \n",
       " train.Length  train.Class  train.Mode test.Length  test.Class  test.Mode \n",
       " 34          data.frame  list          34          data.frame  list       \n",
       " 34          data.frame  list          34          data.frame  list       \n",
       " 34          data.frame  list          34          data.frame  list       \n",
       " 34          data.frame  list          34          data.frame  list       \n",
       " 34          data.frame  list          34          data.frame  list       \n",
       " model.Length  model.Class  model.Mode\n",
       " 30    glm   list                     \n",
       " 30    glm   list                     \n",
       " 30    glm   list                     \n",
       " 30    glm   list                     \n",
       " 30    glm   list                     "
      ]
     },
     "metadata": {},
     "output_type": "display_data"
    }
   ],
   "source": [
    "# Check the model\n",
    "# The model works\n",
    "summary(cv_models_attr)"
   ]
  },
  {
   "cell_type": "markdown",
   "metadata": {},
   "source": [
    "Drop Over18 from the model with minus-sign does not work. Instead drop it from the data set above at start of the notebook."
   ]
  },
  {
   "cell_type": "code",
   "execution_count": 31,
   "metadata": {},
   "outputs": [],
   "source": [
    " cv_models_lr <- cv_data_attr  %>% mutate(model = map(train, ~glm(formula=Attrition~., data = .x, family = \"binomial\")))"
   ]
  },
  {
   "cell_type": "code",
   "execution_count": 32,
   "metadata": {},
   "outputs": [
    {
     "data": {
      "text/plain": [
       " splits.Length  splits.Class  splits.Mode      id           \n",
       " 4       rsplit  list                     Length:5          \n",
       " 4       rsplit  list                     Class :character  \n",
       " 4       rsplit  list                     Mode  :character  \n",
       " 4       rsplit  list                                       \n",
       " 4       rsplit  list                                       \n",
       " train.Length  train.Class  train.Mode test.Length  test.Class  test.Mode \n",
       " 34          data.frame  list          34          data.frame  list       \n",
       " 34          data.frame  list          34          data.frame  list       \n",
       " 34          data.frame  list          34          data.frame  list       \n",
       " 34          data.frame  list          34          data.frame  list       \n",
       " 34          data.frame  list          34          data.frame  list       \n",
       " model.Length  model.Class  model.Mode\n",
       " 30    glm   list                     \n",
       " 30    glm   list                     \n",
       " 30    glm   list                     \n",
       " 30    glm   list                     \n",
       " 30    glm   list                     "
      ]
     },
     "metadata": {},
     "output_type": "display_data"
    }
   ],
   "source": [
    "summary(cv_models_lr)"
   ]
  },
  {
   "cell_type": "code",
   "execution_count": 33,
   "metadata": {},
   "outputs": [
    {
     "data": {
      "text/html": [
       "<ol class=list-inline>\n",
       "\t<li>'splits'</li>\n",
       "\t<li>'id'</li>\n",
       "\t<li>'train'</li>\n",
       "\t<li>'test'</li>\n",
       "\t<li>'model'</li>\n",
       "</ol>\n"
      ],
      "text/latex": [
       "\\begin{enumerate*}\n",
       "\\item 'splits'\n",
       "\\item 'id'\n",
       "\\item 'train'\n",
       "\\item 'test'\n",
       "\\item 'model'\n",
       "\\end{enumerate*}\n"
      ],
      "text/markdown": [
       "1. 'splits'\n",
       "2. 'id'\n",
       "3. 'train'\n",
       "4. 'test'\n",
       "5. 'model'\n",
       "\n",
       "\n"
      ],
      "text/plain": [
       "[1] \"splits\" \"id\"     \"train\"  \"test\"   \"model\" "
      ]
     },
     "metadata": {},
     "output_type": "display_data"
    }
   ],
   "source": [
    "colnames(cv_models_lr)"
   ]
  },
  {
   "cell_type": "markdown",
   "metadata": {},
   "source": [
    "### Evaluating the attrition classification model for a single fold"
   ]
  },
  {
   "cell_type": "markdown",
   "metadata": {},
   "source": [
    "Extract the model and the validate dataframe from the first fold of the cross-validation. "
   ]
  },
  {
   "cell_type": "code",
   "execution_count": 34,
   "metadata": {},
   "outputs": [],
   "source": [
    "model <- cv_models_lr$model[[1]]\n",
    "validate <- cv_models_lr$test[[1]]"
   ]
  },
  {
   "cell_type": "code",
   "execution_count": 35,
   "metadata": {},
   "outputs": [
    {
     "data": {
      "text/html": [
       "<ol class=list-inline>\n",
       "\t<li>'ï..Age'</li>\n",
       "\t<li>'Attrition'</li>\n",
       "\t<li>'BusinessTravel'</li>\n",
       "\t<li>'DailyRate'</li>\n",
       "\t<li>'Department'</li>\n",
       "\t<li>'DistanceFromHome'</li>\n",
       "\t<li>'Education'</li>\n",
       "\t<li>'EducationField'</li>\n",
       "\t<li>'EmployeeCount'</li>\n",
       "\t<li>'EmployeeNumber'</li>\n",
       "\t<li>'EnvironmentSatisfaction'</li>\n",
       "\t<li>'Gender'</li>\n",
       "\t<li>'HourlyRate'</li>\n",
       "\t<li>'JobInvolvement'</li>\n",
       "\t<li>'JobLevel'</li>\n",
       "\t<li>'JobRole'</li>\n",
       "\t<li>'JobSatisfaction'</li>\n",
       "\t<li>'MaritalStatus'</li>\n",
       "\t<li>'MonthlyIncome'</li>\n",
       "\t<li>'MonthlyRate'</li>\n",
       "\t<li>'NumCompaniesWorked'</li>\n",
       "\t<li>'OverTime'</li>\n",
       "\t<li>'PercentSalaryHike'</li>\n",
       "\t<li>'PerformanceRating'</li>\n",
       "\t<li>'RelationshipSatisfaction'</li>\n",
       "\t<li>'StandardHours'</li>\n",
       "\t<li>'StockOptionLevel'</li>\n",
       "\t<li>'TotalWorkingYears'</li>\n",
       "\t<li>'TrainingTimesLastYear'</li>\n",
       "\t<li>'WorkLifeBalance'</li>\n",
       "\t<li>'YearsAtCompany'</li>\n",
       "\t<li>'YearsInCurrentRole'</li>\n",
       "\t<li>'YearsSinceLastPromotion'</li>\n",
       "\t<li>'YearsWithCurrManager'</li>\n",
       "</ol>\n"
      ],
      "text/latex": [
       "\\begin{enumerate*}\n",
       "\\item 'ï..Age'\n",
       "\\item 'Attrition'\n",
       "\\item 'BusinessTravel'\n",
       "\\item 'DailyRate'\n",
       "\\item 'Department'\n",
       "\\item 'DistanceFromHome'\n",
       "\\item 'Education'\n",
       "\\item 'EducationField'\n",
       "\\item 'EmployeeCount'\n",
       "\\item 'EmployeeNumber'\n",
       "\\item 'EnvironmentSatisfaction'\n",
       "\\item 'Gender'\n",
       "\\item 'HourlyRate'\n",
       "\\item 'JobInvolvement'\n",
       "\\item 'JobLevel'\n",
       "\\item 'JobRole'\n",
       "\\item 'JobSatisfaction'\n",
       "\\item 'MaritalStatus'\n",
       "\\item 'MonthlyIncome'\n",
       "\\item 'MonthlyRate'\n",
       "\\item 'NumCompaniesWorked'\n",
       "\\item 'OverTime'\n",
       "\\item 'PercentSalaryHike'\n",
       "\\item 'PerformanceRating'\n",
       "\\item 'RelationshipSatisfaction'\n",
       "\\item 'StandardHours'\n",
       "\\item 'StockOptionLevel'\n",
       "\\item 'TotalWorkingYears'\n",
       "\\item 'TrainingTimesLastYear'\n",
       "\\item 'WorkLifeBalance'\n",
       "\\item 'YearsAtCompany'\n",
       "\\item 'YearsInCurrentRole'\n",
       "\\item 'YearsSinceLastPromotion'\n",
       "\\item 'YearsWithCurrManager'\n",
       "\\end{enumerate*}\n"
      ],
      "text/markdown": [
       "1. 'ï..Age'\n",
       "2. 'Attrition'\n",
       "3. 'BusinessTravel'\n",
       "4. 'DailyRate'\n",
       "5. 'Department'\n",
       "6. 'DistanceFromHome'\n",
       "7. 'Education'\n",
       "8. 'EducationField'\n",
       "9. 'EmployeeCount'\n",
       "10. 'EmployeeNumber'\n",
       "11. 'EnvironmentSatisfaction'\n",
       "12. 'Gender'\n",
       "13. 'HourlyRate'\n",
       "14. 'JobInvolvement'\n",
       "15. 'JobLevel'\n",
       "16. 'JobRole'\n",
       "17. 'JobSatisfaction'\n",
       "18. 'MaritalStatus'\n",
       "19. 'MonthlyIncome'\n",
       "20. 'MonthlyRate'\n",
       "21. 'NumCompaniesWorked'\n",
       "22. 'OverTime'\n",
       "23. 'PercentSalaryHike'\n",
       "24. 'PerformanceRating'\n",
       "25. 'RelationshipSatisfaction'\n",
       "26. 'StandardHours'\n",
       "27. 'StockOptionLevel'\n",
       "28. 'TotalWorkingYears'\n",
       "29. 'TrainingTimesLastYear'\n",
       "30. 'WorkLifeBalance'\n",
       "31. 'YearsAtCompany'\n",
       "32. 'YearsInCurrentRole'\n",
       "33. 'YearsSinceLastPromotion'\n",
       "34. 'YearsWithCurrManager'\n",
       "\n",
       "\n"
      ],
      "text/plain": [
       " [1] \"ï..Age\"                   \"Attrition\"               \n",
       " [3] \"BusinessTravel\"           \"DailyRate\"               \n",
       " [5] \"Department\"               \"DistanceFromHome\"        \n",
       " [7] \"Education\"                \"EducationField\"          \n",
       " [9] \"EmployeeCount\"            \"EmployeeNumber\"          \n",
       "[11] \"EnvironmentSatisfaction\"  \"Gender\"                  \n",
       "[13] \"HourlyRate\"               \"JobInvolvement\"          \n",
       "[15] \"JobLevel\"                 \"JobRole\"                 \n",
       "[17] \"JobSatisfaction\"          \"MaritalStatus\"           \n",
       "[19] \"MonthlyIncome\"            \"MonthlyRate\"             \n",
       "[21] \"NumCompaniesWorked\"       \"OverTime\"                \n",
       "[23] \"PercentSalaryHike\"        \"PerformanceRating\"       \n",
       "[25] \"RelationshipSatisfaction\" \"StandardHours\"           \n",
       "[27] \"StockOptionLevel\"         \"TotalWorkingYears\"       \n",
       "[29] \"TrainingTimesLastYear\"    \"WorkLifeBalance\"         \n",
       "[31] \"YearsAtCompany\"           \"YearsInCurrentRole\"      \n",
       "[33] \"YearsSinceLastPromotion\"  \"YearsWithCurrManager\"    "
      ]
     },
     "metadata": {},
     "output_type": "display_data"
    }
   ],
   "source": [
    "colnames(validate)"
   ]
  },
  {
   "cell_type": "code",
   "execution_count": 36,
   "metadata": {},
   "outputs": [
    {
     "name": "stderr",
     "output_type": "stream",
     "text": [
      "Warning message in predict.lm(object, newdata, se.fit, scale = 1, type = ifelse(type == :\n",
      "\"prediction from a rank-deficient fit may be misleading\""
     ]
    }
   ],
   "source": [
    "# Prepare binary vector of actual Attrition values in validate\n",
    "validate_actual <- validate$Attrition == \"Yes\"\n",
    "# Predict the probabilities for the observations in validate\n",
    "validate_probabilities <- predict(model, validate, type=\"response\")\n"
   ]
  },
  {
   "cell_type": "code",
   "execution_count": 37,
   "metadata": {},
   "outputs": [
    {
     "name": "stdout",
     "output_type": "stream",
     "text": [
      " logi [1:221] FALSE FALSE FALSE FALSE FALSE TRUE ...\n",
      " Named num [1:221] 0.3013 0.04876 0.12358 0.00296 0.15301 ...\n",
      " - attr(*, \"names\")= chr [1:221] \"5\" \"16\" \"18\" \"19\" ...\n"
     ]
    }
   ],
   "source": [
    "glimpse(validate_actual)\n",
    "glimpse(validate_probabilities)\n"
   ]
  },
  {
   "cell_type": "code",
   "execution_count": 38,
   "metadata": {},
   "outputs": [
    {
     "name": "stdout",
     "output_type": "stream",
     "text": [
      " Named logi [1:221] FALSE FALSE FALSE FALSE FALSE TRUE ...\n",
      " - attr(*, \"names\")= chr [1:221] \"5\" \"16\" \"18\" \"19\" ...\n"
     ]
    }
   ],
   "source": [
    "# Turning probabilities into predictions depending on threshold of 0.5\n",
    "validate_predictions <- ifelse(validate_probabilities > 0.5, TRUE, FALSE)\n",
    "glimpse(validate_predictions)"
   ]
  },
  {
   "cell_type": "markdown",
   "metadata": {},
   "source": [
    "Make a contigency table or confusion matrix"
   ]
  },
  {
   "cell_type": "code",
   "execution_count": 39,
   "metadata": {},
   "outputs": [
    {
     "data": {
      "text/plain": [
       "               validate_predictions\n",
       "validate_actual FALSE TRUE\n",
       "          FALSE   183    3\n",
       "          TRUE     18   17"
      ]
     },
     "metadata": {},
     "output_type": "display_data"
    }
   ],
   "source": [
    "table(validate_actual, validate_predictions)"
   ]
  },
  {
   "cell_type": "markdown",
   "metadata": {},
   "source": [
    "#### Calculating binary classification metrics for selected fold\n"
   ]
  },
  {
   "cell_type": "markdown",
   "metadata": {},
   "source": [
    "\n",
    "<li>\n",
    "<ul>Accuracy: the share of correct predictions in relation to all observations</ul>\n",
    "<ul>Precision: the share  of true predictions of true and false predictions </ul>\n",
    "<ul>Recall:  the share  of true predictions of all actually true observations</ul>\n",
    "</li>\n"
   ]
  },
  {
   "cell_type": "code",
   "execution_count": 40,
   "metadata": {},
   "outputs": [
    {
     "data": {
      "text/html": [
       "0.904977375565611"
      ],
      "text/latex": [
       "0.904977375565611"
      ],
      "text/markdown": [
       "0.904977375565611"
      ],
      "text/plain": [
       "[1] 0.9049774"
      ]
     },
     "metadata": {},
     "output_type": "display_data"
    }
   ],
   "source": [
    "accuracy(validate_actual, validate_predictions)"
   ]
  },
  {
   "cell_type": "code",
   "execution_count": 41,
   "metadata": {},
   "outputs": [
    {
     "data": {
      "text/html": [
       "0.85"
      ],
      "text/latex": [
       "0.85"
      ],
      "text/markdown": [
       "0.85"
      ],
      "text/plain": [
       "[1] 0.85"
      ]
     },
     "metadata": {},
     "output_type": "display_data"
    }
   ],
   "source": [
    "precision(validate_actual, validate_predictions)"
   ]
  },
  {
   "cell_type": "code",
   "execution_count": 42,
   "metadata": {},
   "outputs": [
    {
     "data": {
      "text/html": [
       "0.485714285714286"
      ],
      "text/latex": [
       "0.485714285714286"
      ],
      "text/markdown": [
       "0.485714285714286"
      ],
      "text/plain": [
       "[1] 0.4857143"
      ]
     },
     "metadata": {},
     "output_type": "display_data"
    }
   ],
   "source": [
    "recall(validate_actual, validate_predictions)"
   ]
  },
  {
   "cell_type": "markdown",
   "metadata": {},
   "source": [
    "#### Prepare for cross-validated performance"
   ]
  },
  {
   "cell_type": "code",
   "execution_count": 43,
   "metadata": {},
   "outputs": [],
   "source": [
    "suppressWarnings(\n",
    "cv_prep_lr <-  cv_models_lr %>% \n",
    "  mutate(\n",
    "    # Prepare binary vector of actual Attrition values in validate\n",
    "    validate_actual = map(test, ~.x$Attrition == \"Yes\"),\n",
    "    # Prepare binary vector of predicted Attrition values for validate\n",
    "    validate_predicted = map2(.x = model, .y = test, ~predict(.x, .y, type = \"response\") > 0.5)\n",
    "  ))"
   ]
  },
  {
   "cell_type": "code",
   "execution_count": 44,
   "metadata": {},
   "outputs": [
    {
     "data": {
      "text/plain": [
       " splits.Length  splits.Class  splits.Mode      id           \n",
       " 4       rsplit  list                     Length:5          \n",
       " 4       rsplit  list                     Class :character  \n",
       " 4       rsplit  list                     Mode  :character  \n",
       " 4       rsplit  list                                       \n",
       " 4       rsplit  list                                       \n",
       " train.Length  train.Class  train.Mode test.Length  test.Class  test.Mode \n",
       " 34          data.frame  list          34          data.frame  list       \n",
       " 34          data.frame  list          34          data.frame  list       \n",
       " 34          data.frame  list          34          data.frame  list       \n",
       " 34          data.frame  list          34          data.frame  list       \n",
       " 34          data.frame  list          34          data.frame  list       \n",
       " model.Length  model.Class  model.Mode\n",
       " 30    glm   list                     \n",
       " 30    glm   list                     \n",
       " 30    glm   list                     \n",
       " 30    glm   list                     \n",
       " 30    glm   list                     \n",
       " validate_actual.Length  validate_actual.Class  validate_actual.Mode\n",
       " 221      -none-   logical                                          \n",
       " 221      -none-   logical                                          \n",
       " 221      -none-   logical                                          \n",
       " 220      -none-   logical                                          \n",
       " 220      -none-   logical                                          \n",
       " validate_predicted.Length  validate_predicted.Class  validate_predicted.Mode\n",
       " 221      -none-   logical                                                   \n",
       " 221      -none-   logical                                                   \n",
       " 221      -none-   logical                                                   \n",
       " 220      -none-   logical                                                   \n",
       " 220      -none-   logical                                                   "
      ]
     },
     "metadata": {},
     "output_type": "display_data"
    }
   ],
   "source": [
    "summary(cv_prep_lr )"
   ]
  },
  {
   "cell_type": "code",
   "execution_count": 45,
   "metadata": {},
   "outputs": [],
   "source": [
    "# Calculate the validate recall for each cross validation fold\n",
    "cv_performance_recall <- cv_prep_lr %>% mutate(validate_recall =  map2_dbl(.x=validate_actual, .y=validate_predicted, ~recall(.x, .y)))"
   ]
  },
  {
   "cell_type": "code",
   "execution_count": 46,
   "metadata": {},
   "outputs": [
    {
     "data": {
      "text/html": [
       "<dl class=dl-horizontal>\n",
       "\t<dt>1</dt>\n",
       "\t\t<dd>0.485714285714286</dd>\n",
       "\t<dt>2</dt>\n",
       "\t\t<dd>0.393939393939394</dd>\n",
       "\t<dt>3</dt>\n",
       "\t\t<dd>0.365853658536585</dd>\n",
       "\t<dt>4</dt>\n",
       "\t\t<dd>0.444444444444444</dd>\n",
       "\t<dt>5</dt>\n",
       "\t\t<dd>0.428571428571429</dd>\n",
       "</dl>\n"
      ],
      "text/latex": [
       "\\begin{description*}\n",
       "\\item[1] 0.485714285714286\n",
       "\\item[2] 0.393939393939394\n",
       "\\item[3] 0.365853658536585\n",
       "\\item[4] 0.444444444444444\n",
       "\\item[5] 0.428571428571429\n",
       "\\end{description*}\n"
      ],
      "text/markdown": [
       "1\n",
       ":   0.4857142857142862\n",
       ":   0.3939393939393943\n",
       ":   0.3658536585365854\n",
       ":   0.4444444444444445\n",
       ":   0.428571428571429\n",
       "\n"
      ],
      "text/plain": [
       "        1         2         3         4         5 \n",
       "0.4857143 0.3939394 0.3658537 0.4444444 0.4285714 "
      ]
     },
     "metadata": {},
     "output_type": "display_data"
    }
   ],
   "source": [
    "# Print the validate_recall column\n",
    "cv_performance_recall$validate_recall"
   ]
  },
  {
   "cell_type": "code",
   "execution_count": 47,
   "metadata": {},
   "outputs": [
    {
     "data": {
      "text/html": [
       "0.423704642241228"
      ],
      "text/latex": [
       "0.423704642241228"
      ],
      "text/markdown": [
       "0.423704642241228"
      ],
      "text/plain": [
       "[1] 0.4237046"
      ]
     },
     "metadata": {},
     "output_type": "display_data"
    }
   ],
   "source": [
    "mean(cv_performance_recall$validate_recall)"
   ]
  },
  {
   "cell_type": "markdown",
   "metadata": {},
   "source": [
    "The average validate recall is 0.43."
   ]
  },
  {
   "cell_type": "markdown",
   "metadata": {},
   "source": [
    "#### Can a random forest model perform better than the logistic regression model (recall = 0.43)?"
   ]
  },
  {
   "cell_type": "code",
   "execution_count": 48,
   "metadata": {},
   "outputs": [],
   "source": [
    "# Tuning the model by inserting different values of mtry\n",
    "cv_tune <- cv_data_attr %>% crossing(mtry=c(2,4,8,16))\n"
   ]
  },
  {
   "cell_type": "code",
   "execution_count": 49,
   "metadata": {},
   "outputs": [],
   "source": [
    "# Build a cross validation model for each fold & mtry combination of the training data\n",
    "cv_rf <- cv_tune %>% mutate(rf_model = \n",
    "                            map2(.x= train, .y=mtry,.f= ~ranger(formula=Attrition~.,data=.x,\n",
    "                                                     mtry=.y, num.trees=100, seed=42)))\n",
    "\n"
   ]
  },
  {
   "cell_type": "code",
   "execution_count": 50,
   "metadata": {},
   "outputs": [
    {
     "data": {
      "text/html": [
       "<ol class=list-inline>\n",
       "\t<li>'splits'</li>\n",
       "\t<li>'id'</li>\n",
       "\t<li>'train'</li>\n",
       "\t<li>'test'</li>\n",
       "\t<li>'mtry'</li>\n",
       "\t<li>'rf_model'</li>\n",
       "</ol>\n"
      ],
      "text/latex": [
       "\\begin{enumerate*}\n",
       "\\item 'splits'\n",
       "\\item 'id'\n",
       "\\item 'train'\n",
       "\\item 'test'\n",
       "\\item 'mtry'\n",
       "\\item 'rf\\_model'\n",
       "\\end{enumerate*}\n"
      ],
      "text/markdown": [
       "1. 'splits'\n",
       "2. 'id'\n",
       "3. 'train'\n",
       "4. 'test'\n",
       "5. 'mtry'\n",
       "6. 'rf_model'\n",
       "\n",
       "\n"
      ],
      "text/plain": [
       "[1] \"splits\"   \"id\"       \"train\"    \"test\"     \"mtry\"     \"rf_model\""
      ]
     },
     "metadata": {},
     "output_type": "display_data"
    }
   ],
   "source": [
    "colnames(cv_rf )"
   ]
  },
  {
   "cell_type": "code",
   "execution_count": 51,
   "metadata": {},
   "outputs": [
    {
     "data": {
      "text/html": [
       "<ol class=list-inline>\n",
       "\t<li>2</li>\n",
       "\t<li>4</li>\n",
       "\t<li>8</li>\n",
       "\t<li>16</li>\n",
       "\t<li>2</li>\n",
       "\t<li>4</li>\n",
       "\t<li>8</li>\n",
       "\t<li>16</li>\n",
       "\t<li>2</li>\n",
       "\t<li>4</li>\n",
       "\t<li>8</li>\n",
       "\t<li>16</li>\n",
       "\t<li>2</li>\n",
       "\t<li>4</li>\n",
       "\t<li>8</li>\n",
       "\t<li>16</li>\n",
       "\t<li>2</li>\n",
       "\t<li>4</li>\n",
       "\t<li>8</li>\n",
       "\t<li>16</li>\n",
       "</ol>\n"
      ],
      "text/latex": [
       "\\begin{enumerate*}\n",
       "\\item 2\n",
       "\\item 4\n",
       "\\item 8\n",
       "\\item 16\n",
       "\\item 2\n",
       "\\item 4\n",
       "\\item 8\n",
       "\\item 16\n",
       "\\item 2\n",
       "\\item 4\n",
       "\\item 8\n",
       "\\item 16\n",
       "\\item 2\n",
       "\\item 4\n",
       "\\item 8\n",
       "\\item 16\n",
       "\\item 2\n",
       "\\item 4\n",
       "\\item 8\n",
       "\\item 16\n",
       "\\end{enumerate*}\n"
      ],
      "text/markdown": [
       "1. 2\n",
       "2. 4\n",
       "3. 8\n",
       "4. 16\n",
       "5. 2\n",
       "6. 4\n",
       "7. 8\n",
       "8. 16\n",
       "9. 2\n",
       "10. 4\n",
       "11. 8\n",
       "12. 16\n",
       "13. 2\n",
       "14. 4\n",
       "15. 8\n",
       "16. 16\n",
       "17. 2\n",
       "18. 4\n",
       "19. 8\n",
       "20. 16\n",
       "\n",
       "\n"
      ],
      "text/plain": [
       " [1]  2  4  8 16  2  4  8 16  2  4  8 16  2  4  8 16  2  4  8 16"
      ]
     },
     "metadata": {},
     "output_type": "display_data"
    },
    {
     "name": "stderr",
     "output_type": "stream",
     "text": [
      "Warning message:\n",
      "\"Unknown or uninitialised column: 'recall'.\""
     ]
    },
    {
     "data": {
      "text/html": [
       "0"
      ],
      "text/latex": [
       "0"
      ],
      "text/markdown": [
       "0"
      ],
      "text/plain": [
       "[1] 0"
      ]
     },
     "metadata": {},
     "output_type": "display_data"
    }
   ],
   "source": [
    "cv_rf$mtry\n",
    "length(cv_performance_recall$recall)"
   ]
  },
  {
   "cell_type": "markdown",
   "metadata": {},
   "source": [
    "Prepare the validate_actual and validate_predicted columns \n",
    "for each mtry/fold combination of the random forest model."
   ]
  },
  {
   "cell_type": "code",
   "execution_count": 52,
   "metadata": {},
   "outputs": [],
   "source": [
    "cv_prepare_rf <- cv_rf %>% mutate(validate_actual = map(test, ~.x$Attrition == \"Yes\"),\n",
    "                           validate_prediction = map2(.x=rf_model, .y=test, ~predict(.x, .y, type=\"response\")$predictions == \"Yes\"))"
   ]
  },
  {
   "cell_type": "code",
   "execution_count": 53,
   "metadata": {},
   "outputs": [],
   "source": [
    "# Calculate the validate recall for each cross validation fold\n",
    "cv_performance_recall <- cv_prepare_rf %>% mutate(recall= map2_dbl(.x=validate_actual, .y=validate_prediction, ~recall(actual=.x,predicted=.y)))"
   ]
  },
  {
   "cell_type": "code",
   "execution_count": 54,
   "metadata": {},
   "outputs": [
    {
     "data": {
      "text/html": [
       "<ol class=list-inline>\n",
       "\t<li>'splits'</li>\n",
       "\t<li>'id'</li>\n",
       "\t<li>'train'</li>\n",
       "\t<li>'test'</li>\n",
       "\t<li>'mtry'</li>\n",
       "\t<li>'rf_model'</li>\n",
       "\t<li>'validate_actual'</li>\n",
       "\t<li>'validate_prediction'</li>\n",
       "\t<li>'recall'</li>\n",
       "</ol>\n"
      ],
      "text/latex": [
       "\\begin{enumerate*}\n",
       "\\item 'splits'\n",
       "\\item 'id'\n",
       "\\item 'train'\n",
       "\\item 'test'\n",
       "\\item 'mtry'\n",
       "\\item 'rf\\_model'\n",
       "\\item 'validate\\_actual'\n",
       "\\item 'validate\\_prediction'\n",
       "\\item 'recall'\n",
       "\\end{enumerate*}\n"
      ],
      "text/markdown": [
       "1. 'splits'\n",
       "2. 'id'\n",
       "3. 'train'\n",
       "4. 'test'\n",
       "5. 'mtry'\n",
       "6. 'rf_model'\n",
       "7. 'validate_actual'\n",
       "8. 'validate_prediction'\n",
       "9. 'recall'\n",
       "\n",
       "\n"
      ],
      "text/plain": [
       "[1] \"splits\"              \"id\"                  \"train\"              \n",
       "[4] \"test\"                \"mtry\"                \"rf_model\"           \n",
       "[7] \"validate_actual\"     \"validate_prediction\" \"recall\"             "
      ]
     },
     "metadata": {},
     "output_type": "display_data"
    }
   ],
   "source": [
    "colnames(cv_performance_recall)"
   ]
  },
  {
   "cell_type": "code",
   "execution_count": 55,
   "metadata": {},
   "outputs": [
    {
     "data": {
      "text/html": [
       "<dl class=dl-horizontal>\n",
       "\t<dt>1</dt>\n",
       "\t\t<dd>0.114285714285714</dd>\n",
       "\t<dt>1</dt>\n",
       "\t\t<dd>0.2</dd>\n",
       "\t<dt>1</dt>\n",
       "\t\t<dd>0.171428571428571</dd>\n",
       "\t<dt>1</dt>\n",
       "\t\t<dd>0.228571428571429</dd>\n",
       "\t<dt>2</dt>\n",
       "\t\t<dd>0.0909090909090909</dd>\n",
       "\t<dt>2</dt>\n",
       "\t\t<dd>0.0909090909090909</dd>\n",
       "\t<dt>2</dt>\n",
       "\t\t<dd>0.0606060606060606</dd>\n",
       "\t<dt>2</dt>\n",
       "\t\t<dd>0.0606060606060606</dd>\n",
       "\t<dt>3</dt>\n",
       "\t\t<dd>0.024390243902439</dd>\n",
       "\t<dt>3</dt>\n",
       "\t\t<dd>0.0975609756097561</dd>\n",
       "\t<dt>3</dt>\n",
       "\t\t<dd>0.170731707317073</dd>\n",
       "\t<dt>3</dt>\n",
       "\t\t<dd>0.219512195121951</dd>\n",
       "\t<dt>4</dt>\n",
       "\t\t<dd>0.0277777777777778</dd>\n",
       "\t<dt>4</dt>\n",
       "\t\t<dd>0.111111111111111</dd>\n",
       "\t<dt>4</dt>\n",
       "\t\t<dd>0.166666666666667</dd>\n",
       "\t<dt>4</dt>\n",
       "\t\t<dd>0.138888888888889</dd>\n",
       "\t<dt>5</dt>\n",
       "\t\t<dd>0.142857142857143</dd>\n",
       "\t<dt>5</dt>\n",
       "\t\t<dd>0.142857142857143</dd>\n",
       "\t<dt>5</dt>\n",
       "\t\t<dd>0.214285714285714</dd>\n",
       "\t<dt>5</dt>\n",
       "\t\t<dd>0.178571428571429</dd>\n",
       "</dl>\n"
      ],
      "text/latex": [
       "\\begin{description*}\n",
       "\\item[1] 0.114285714285714\n",
       "\\item[1] 0.2\n",
       "\\item[1] 0.171428571428571\n",
       "\\item[1] 0.228571428571429\n",
       "\\item[2] 0.0909090909090909\n",
       "\\item[2] 0.0909090909090909\n",
       "\\item[2] 0.0606060606060606\n",
       "\\item[2] 0.0606060606060606\n",
       "\\item[3] 0.024390243902439\n",
       "\\item[3] 0.0975609756097561\n",
       "\\item[3] 0.170731707317073\n",
       "\\item[3] 0.219512195121951\n",
       "\\item[4] 0.0277777777777778\n",
       "\\item[4] 0.111111111111111\n",
       "\\item[4] 0.166666666666667\n",
       "\\item[4] 0.138888888888889\n",
       "\\item[5] 0.142857142857143\n",
       "\\item[5] 0.142857142857143\n",
       "\\item[5] 0.214285714285714\n",
       "\\item[5] 0.178571428571429\n",
       "\\end{description*}\n"
      ],
      "text/markdown": [
       "1\n",
       ":   0.1142857142857141\n",
       ":   0.21\n",
       ":   0.1714285714285711\n",
       ":   0.2285714285714292\n",
       ":   0.09090909090909092\n",
       ":   0.09090909090909092\n",
       ":   0.06060606060606062\n",
       ":   0.06060606060606063\n",
       ":   0.0243902439024393\n",
       ":   0.09756097560975613\n",
       ":   0.1707317073170733\n",
       ":   0.2195121951219514\n",
       ":   0.02777777777777784\n",
       ":   0.1111111111111114\n",
       ":   0.1666666666666674\n",
       ":   0.1388888888888895\n",
       ":   0.1428571428571435\n",
       ":   0.1428571428571435\n",
       ":   0.2142857142857145\n",
       ":   0.178571428571429\n",
       "\n"
      ],
      "text/plain": [
       "         1          1          1          1          2          2          2 \n",
       "0.11428571 0.20000000 0.17142857 0.22857143 0.09090909 0.09090909 0.06060606 \n",
       "         2          3          3          3          3          4          4 \n",
       "0.06060606 0.02439024 0.09756098 0.17073171 0.21951220 0.02777778 0.11111111 \n",
       "         4          4          5          5          5          5 \n",
       "0.16666667 0.13888889 0.14285714 0.14285714 0.21428571 0.17857143 "
      ]
     },
     "metadata": {},
     "output_type": "display_data"
    },
    {
     "data": {
      "text/html": [
       "20"
      ],
      "text/latex": [
       "20"
      ],
      "text/markdown": [
       "20"
      ],
      "text/plain": [
       "[1] 20"
      ]
     },
     "metadata": {},
     "output_type": "display_data"
    }
   ],
   "source": [
    "cv_performance_recall$recall\n",
    "length(cv_performance_recall$recall)"
   ]
  },
  {
   "cell_type": "code",
   "execution_count": 56,
   "metadata": {},
   "outputs": [],
   "source": [
    "# Calculate the mean recall for each mtry used \n",
    "cv_average_recall_mtry <- cv_performance_recall %>% \n",
    "select(mtry, recall) %>% group_by(mtry) %>% summarise(mean_recall = mean(recall))\n",
    "# Problem solved: use select otherwise you run into error\n",
    "# https://community.rstudio.com/t/warning-error-in-names-attribute-must-be-the-same-length-as-the-vector/11312/3"
   ]
  },
  {
   "cell_type": "code",
   "execution_count": 57,
   "metadata": {},
   "outputs": [
    {
     "data": {
      "text/html": [
       "<ol class=list-inline>\n",
       "\t<li>'mtry'</li>\n",
       "\t<li>'mean_recall'</li>\n",
       "</ol>\n"
      ],
      "text/latex": [
       "\\begin{enumerate*}\n",
       "\\item 'mtry'\n",
       "\\item 'mean\\_recall'\n",
       "\\end{enumerate*}\n"
      ],
      "text/markdown": [
       "1. 'mtry'\n",
       "2. 'mean_recall'\n",
       "\n",
       "\n"
      ],
      "text/plain": [
       "[1] \"mtry\"        \"mean_recall\""
      ]
     },
     "metadata": {},
     "output_type": "display_data"
    },
    {
     "ename": "ERROR",
     "evalue": "Error in eval(expr, envir, enclos): Objekt 'bb' nicht gefunden\n",
     "output_type": "error",
     "traceback": [
      "Error in eval(expr, envir, enclos): Objekt 'bb' nicht gefunden\nTraceback:\n"
     ]
    }
   ],
   "source": [
    "colnames(cv_average_recall_mtry )\n",
    "class(bb)\n",
    "dim(bb)"
   ]
  },
  {
   "cell_type": "code",
   "execution_count": null,
   "metadata": {},
   "outputs": [],
   "source": [
    "print(cv_average_recall_mtry )"
   ]
  },
  {
   "cell_type": "markdown",
   "metadata": {},
   "source": [
    "The best performing random forest model has a recall of 0.128 with an mtry of 4. The recall of the logistic regression model was clearly better with 0.49."
   ]
  },
  {
   "cell_type": "markdown",
   "metadata": {},
   "source": [
    "### Building the logistic regression model as the best model and make predicitions on the testing data"
   ]
  },
  {
   "cell_type": "code",
   "execution_count": null,
   "metadata": {},
   "outputs": [],
   "source": [
    "\n",
    "# Build the logistic regression model using all training data\n",
    "best_model <- glm(formula = Attrition~., \n",
    "                  data = training_attr , family = \"binomial\")\n",
    "\n",
    "\n",
    "# Prepare binary vector of actual Attrition values for testing_data\n",
    "test_actual <- testing_attr$Attrition == \"Yes\"\n",
    "\n",
    "# Prepare binary vector of predicted Attrition values for testing_data\n",
    "test_predicted <- predict(best_model, testing_attr , type = \"response\") > 0.5"
   ]
  },
  {
   "cell_type": "code",
   "execution_count": null,
   "metadata": {},
   "outputs": [],
   "source": [
    "summary(best_model)"
   ]
  },
  {
   "cell_type": "code",
   "execution_count": null,
   "metadata": {},
   "outputs": [],
   "source": [
    "class(test_predicted)"
   ]
  },
  {
   "cell_type": "code",
   "execution_count": null,
   "metadata": {},
   "outputs": [],
   "source": [
    "test_predicted[1:10]"
   ]
  },
  {
   "cell_type": "code",
   "execution_count": null,
   "metadata": {},
   "outputs": [],
   "source": [
    "# Compare the actual & predicted performance visually using a table\n",
    "table(test_actual, test_predicted)\n",
    "\n",
    "# Calculate the test accuracy\n",
    "accuracy(test_actual, test_predicted)\n",
    "\n",
    "# Calculate the test precision\n",
    "precision(test_actual, test_predicted)\n",
    "\n",
    "# Calculate the test recall\n",
    "recall(test_actual, test_predicted)"
   ]
  },
  {
   "cell_type": "markdown",
   "metadata": {},
   "source": [
    "Of all actually leaving employees 45% can be identitfied as at risk of leaving."
   ]
  }
 ],
 "metadata": {
  "kernelspec": {
   "display_name": "R",
   "language": "R",
   "name": "ir"
  },
  "language_info": {
   "codemirror_mode": "r",
   "file_extension": ".r",
   "mimetype": "text/x-r-source",
   "name": "R",
   "pygments_lexer": "r",
   "version": "3.5.1"
  }
 },
 "nbformat": 4,
 "nbformat_minor": 2
}
